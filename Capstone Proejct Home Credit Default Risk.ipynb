{
 "cells": [
  {
   "cell_type": "markdown",
   "metadata": {},
   "source": [
    "# Overview\n",
    "\n",
    "Every single person has been applied to get a loan, lease /finance a car or house/apartment at least once in his/her life and bond investors has to consider credit risk of each applicant. Credit risk which is also known as default risk is the risk that a bond issuer will default on their payments of interest and principal.\n",
    "Many people struggle to get loans due to insufficient or non-existent credit histories. And, unfortunately, this population is often taken advantage of by untrustworthy lenders. The goal of this project is to be able to predict the likelihood that an applicant will experience difficulty in repaying their loan.\n",
    "The two most critical questions in the lending industry are:\n",
    "- 1) How risky is the borrower? \n",
    "- 2) Given the borrower’s risk, should we lend him/her?\n",
    "Business Objective: Home Credit Default Risk\n",
    "\n",
    "Home Credit strives to broaden financial inclusion for the unbanked population by providing a positive and safe borrowing experience. In order to make sure this underserved population has a positive loan experience, Home Credit makes use of a variety of alternative data--including telco and transactional information--to predict their clients' repayment abilities. \n",
    "Home Credit needs an algorithm that will take as inputs various personal and alternative financial information originally taken from a loan applicant's profile, and then determine a probability of the applicant has at least one late payment when repaying their loan. This probability will be in the range [0.0, 1.0], where 1.0 represents a 100% certainty that the applicant will have at least one delinquent repayment and 0.0 indicates that there is zero chance that the applicant will ever be delinquent. \n",
    "The algorithm will be tested on a set of 48,744 individuals who previously borrowed from Home Credit. Home Credit knows which borrowers ultimately paid off their loans, and which ones had one or more late payments. A good algorithm will need to predict a high probability of delinquency for the majority of borrowers who did actually make one or more late payments. This algorithm will also need to predict a low probability of delinquency for the majority of borrowers who eventually did successfully repay their loans with no late payments.\n",
    "\n",
    " ## Data\n",
    "\n",
    "The dataset as it is mentioned above was provided by Home Credit Group's data scientists. It contains a wide variety of personal and financial information belonging to 356,255 individuals who had previously been recipients of loans from Home Credit. These individuals are divided into training and testing sets. The training group contains 307,511 individuals' records. The test group contains 48,744 records.\n",
    " The dataset is anonymized, with each individual their loan ID. Any personally identifying, such as name, phone number, or address, has been omitted. Because Home Credit targets the unbanked population, it is unable to rely on traditional measures, such as a credit score, that mainstream financial institutions use when making lending decisions.\n",
    " Home Credit works around this obstacle by looking at an extensive and diverse array of personal and financial information for each of its applicants. These features range from common characteristics, such as marital status, age, type of housing, a region of residence, job type, and education level, to some incredible niche characteristics, such as how many elevators are in an applicant's apartment building. \n",
    "Home Credit also looks at aspects of applicants' financial backgrounds, including month-by-month payment performance on any loans or credit card balances that the applicant has previously had with Home Credit, as well as the amount and monthly repayment balances of any loans that the applicant may have received from other lenders. All of these features are spread across seven data tables. \n",
    "The main data table ('application_train.csv') contains 120 features that comprise applicants' personal background information. The other six data tables contain applicants' previous loan and credit card balance payment histories.  The following diagram provides a brief summary:\n",
    "\n",
    "![My Title](data.png)\n",
    "\n",
    "\n",
    "## Workflow\n",
    "- Collecting data and applying data wrangling \n",
    "- Starting exploratory data analysis to find trends and Storytelling\n",
    "- Conduct further data analysis to identify relationships between different variables\n",
    "- Dimensionality reduction (PCA) or Feature Selection\n",
    "- Implement learning algorithms: Random Forest, Multi-layer Perceptron Classier, Logistic Regression Classier, Gaussian Naive Bayes Classier, AdaBoost Classier, Random Forest Classifier, Gradient Boosting Classier\n",
    "- Model Evaluation and Validation\n",
    "\n"
   ]
  },
  {
   "cell_type": "code",
   "execution_count": 1,
   "metadata": {},
   "outputs": [],
   "source": [
    "import pandas as pd\n",
    "import numpy as np\n",
    "import matplotlib.pyplot as plt\n",
    "import seaborn as sns\n",
    "from collections import OrderedDict\n",
    "%matplotlib inline\n",
    "from sklearn.preprocessing import StandardScaler\n",
    "import time\n",
    "from sklearn.ensemble import RandomForestClassifier\n",
    "from sklearn.datasets import make_classification\n",
    "from sklearn.neighbors import KNeighborsClassifier\n",
    "from sklearn.metrics import confusion_matrix\n",
    "from sklearn.metrics import classification_report\n",
    "from sklearn import svm\n",
    "from sklearn.ensemble import GradientBoostingClassifier\n",
    "from sklearn.model_selection import train_test_split\n",
    "from sklearn.linear_model import LogisticRegression\n",
    "from sklearn.metrics import accuracy_score\n",
    "from sklearn.model_selection import GridSearchCV\n",
    "from sklearn.ensemble import AdaBoostClassifier\n",
    "from sklearn.model_selection import cross_val_score\n",
    "from sklearn.preprocessing import StandardScaler\n",
    "from sklearn.metrics import roc_curve, auc\n",
    "from sklearn import metrics\n"
   ]
  },
  {
   "cell_type": "code",
   "execution_count": 2,
   "metadata": {},
   "outputs": [
    {
     "data": {
      "text/html": [
       "<div>\n",
       "<style scoped>\n",
       "    .dataframe tbody tr th:only-of-type {\n",
       "        vertical-align: middle;\n",
       "    }\n",
       "\n",
       "    .dataframe tbody tr th {\n",
       "        vertical-align: top;\n",
       "    }\n",
       "\n",
       "    .dataframe thead th {\n",
       "        text-align: right;\n",
       "    }\n",
       "</style>\n",
       "<table border=\"1\" class=\"dataframe\">\n",
       "  <thead>\n",
       "    <tr style=\"text-align: right;\">\n",
       "      <th></th>\n",
       "      <th>SK_ID_CURR</th>\n",
       "      <th>TARGET</th>\n",
       "      <th>NAME_CONTRACT_TYPE</th>\n",
       "      <th>CODE_GENDER</th>\n",
       "      <th>FLAG_OWN_CAR</th>\n",
       "      <th>FLAG_OWN_REALTY</th>\n",
       "      <th>CNT_CHILDREN</th>\n",
       "      <th>AMT_INCOME_TOTAL</th>\n",
       "      <th>AMT_CREDIT</th>\n",
       "      <th>AMT_ANNUITY</th>\n",
       "      <th>...</th>\n",
       "      <th>FLAG_DOCUMENT_18</th>\n",
       "      <th>FLAG_DOCUMENT_19</th>\n",
       "      <th>FLAG_DOCUMENT_20</th>\n",
       "      <th>FLAG_DOCUMENT_21</th>\n",
       "      <th>AMT_REQ_CREDIT_BUREAU_HOUR</th>\n",
       "      <th>AMT_REQ_CREDIT_BUREAU_DAY</th>\n",
       "      <th>AMT_REQ_CREDIT_BUREAU_WEEK</th>\n",
       "      <th>AMT_REQ_CREDIT_BUREAU_MON</th>\n",
       "      <th>AMT_REQ_CREDIT_BUREAU_QRT</th>\n",
       "      <th>AMT_REQ_CREDIT_BUREAU_YEAR</th>\n",
       "    </tr>\n",
       "  </thead>\n",
       "  <tbody>\n",
       "    <tr>\n",
       "      <th>0</th>\n",
       "      <td>100002</td>\n",
       "      <td>1</td>\n",
       "      <td>Cash loans</td>\n",
       "      <td>M</td>\n",
       "      <td>N</td>\n",
       "      <td>Y</td>\n",
       "      <td>0</td>\n",
       "      <td>202500.0</td>\n",
       "      <td>406597.5</td>\n",
       "      <td>24700.5</td>\n",
       "      <td>...</td>\n",
       "      <td>0</td>\n",
       "      <td>0</td>\n",
       "      <td>0</td>\n",
       "      <td>0</td>\n",
       "      <td>0.0</td>\n",
       "      <td>0.0</td>\n",
       "      <td>0.0</td>\n",
       "      <td>0.0</td>\n",
       "      <td>0.0</td>\n",
       "      <td>1.0</td>\n",
       "    </tr>\n",
       "    <tr>\n",
       "      <th>1</th>\n",
       "      <td>100003</td>\n",
       "      <td>0</td>\n",
       "      <td>Cash loans</td>\n",
       "      <td>F</td>\n",
       "      <td>N</td>\n",
       "      <td>N</td>\n",
       "      <td>0</td>\n",
       "      <td>270000.0</td>\n",
       "      <td>1293502.5</td>\n",
       "      <td>35698.5</td>\n",
       "      <td>...</td>\n",
       "      <td>0</td>\n",
       "      <td>0</td>\n",
       "      <td>0</td>\n",
       "      <td>0</td>\n",
       "      <td>0.0</td>\n",
       "      <td>0.0</td>\n",
       "      <td>0.0</td>\n",
       "      <td>0.0</td>\n",
       "      <td>0.0</td>\n",
       "      <td>0.0</td>\n",
       "    </tr>\n",
       "    <tr>\n",
       "      <th>2</th>\n",
       "      <td>100004</td>\n",
       "      <td>0</td>\n",
       "      <td>Revolving loans</td>\n",
       "      <td>M</td>\n",
       "      <td>Y</td>\n",
       "      <td>Y</td>\n",
       "      <td>0</td>\n",
       "      <td>67500.0</td>\n",
       "      <td>135000.0</td>\n",
       "      <td>6750.0</td>\n",
       "      <td>...</td>\n",
       "      <td>0</td>\n",
       "      <td>0</td>\n",
       "      <td>0</td>\n",
       "      <td>0</td>\n",
       "      <td>0.0</td>\n",
       "      <td>0.0</td>\n",
       "      <td>0.0</td>\n",
       "      <td>0.0</td>\n",
       "      <td>0.0</td>\n",
       "      <td>0.0</td>\n",
       "    </tr>\n",
       "    <tr>\n",
       "      <th>3</th>\n",
       "      <td>100006</td>\n",
       "      <td>0</td>\n",
       "      <td>Cash loans</td>\n",
       "      <td>F</td>\n",
       "      <td>N</td>\n",
       "      <td>Y</td>\n",
       "      <td>0</td>\n",
       "      <td>135000.0</td>\n",
       "      <td>312682.5</td>\n",
       "      <td>29686.5</td>\n",
       "      <td>...</td>\n",
       "      <td>0</td>\n",
       "      <td>0</td>\n",
       "      <td>0</td>\n",
       "      <td>0</td>\n",
       "      <td>NaN</td>\n",
       "      <td>NaN</td>\n",
       "      <td>NaN</td>\n",
       "      <td>NaN</td>\n",
       "      <td>NaN</td>\n",
       "      <td>NaN</td>\n",
       "    </tr>\n",
       "    <tr>\n",
       "      <th>4</th>\n",
       "      <td>100007</td>\n",
       "      <td>0</td>\n",
       "      <td>Cash loans</td>\n",
       "      <td>M</td>\n",
       "      <td>N</td>\n",
       "      <td>Y</td>\n",
       "      <td>0</td>\n",
       "      <td>121500.0</td>\n",
       "      <td>513000.0</td>\n",
       "      <td>21865.5</td>\n",
       "      <td>...</td>\n",
       "      <td>0</td>\n",
       "      <td>0</td>\n",
       "      <td>0</td>\n",
       "      <td>0</td>\n",
       "      <td>0.0</td>\n",
       "      <td>0.0</td>\n",
       "      <td>0.0</td>\n",
       "      <td>0.0</td>\n",
       "      <td>0.0</td>\n",
       "      <td>0.0</td>\n",
       "    </tr>\n",
       "  </tbody>\n",
       "</table>\n",
       "<p>5 rows × 122 columns</p>\n",
       "</div>"
      ],
      "text/plain": [
       "   SK_ID_CURR  TARGET NAME_CONTRACT_TYPE CODE_GENDER FLAG_OWN_CAR  \\\n",
       "0      100002       1         Cash loans           M            N   \n",
       "1      100003       0         Cash loans           F            N   \n",
       "2      100004       0    Revolving loans           M            Y   \n",
       "3      100006       0         Cash loans           F            N   \n",
       "4      100007       0         Cash loans           M            N   \n",
       "\n",
       "  FLAG_OWN_REALTY  CNT_CHILDREN  AMT_INCOME_TOTAL  AMT_CREDIT  AMT_ANNUITY  \\\n",
       "0               Y             0          202500.0    406597.5      24700.5   \n",
       "1               N             0          270000.0   1293502.5      35698.5   \n",
       "2               Y             0           67500.0    135000.0       6750.0   \n",
       "3               Y             0          135000.0    312682.5      29686.5   \n",
       "4               Y             0          121500.0    513000.0      21865.5   \n",
       "\n",
       "              ...              FLAG_DOCUMENT_18 FLAG_DOCUMENT_19  \\\n",
       "0             ...                             0                0   \n",
       "1             ...                             0                0   \n",
       "2             ...                             0                0   \n",
       "3             ...                             0                0   \n",
       "4             ...                             0                0   \n",
       "\n",
       "  FLAG_DOCUMENT_20 FLAG_DOCUMENT_21 AMT_REQ_CREDIT_BUREAU_HOUR  \\\n",
       "0                0                0                        0.0   \n",
       "1                0                0                        0.0   \n",
       "2                0                0                        0.0   \n",
       "3                0                0                        NaN   \n",
       "4                0                0                        0.0   \n",
       "\n",
       "  AMT_REQ_CREDIT_BUREAU_DAY  AMT_REQ_CREDIT_BUREAU_WEEK  \\\n",
       "0                       0.0                         0.0   \n",
       "1                       0.0                         0.0   \n",
       "2                       0.0                         0.0   \n",
       "3                       NaN                         NaN   \n",
       "4                       0.0                         0.0   \n",
       "\n",
       "   AMT_REQ_CREDIT_BUREAU_MON  AMT_REQ_CREDIT_BUREAU_QRT  \\\n",
       "0                        0.0                        0.0   \n",
       "1                        0.0                        0.0   \n",
       "2                        0.0                        0.0   \n",
       "3                        NaN                        NaN   \n",
       "4                        0.0                        0.0   \n",
       "\n",
       "   AMT_REQ_CREDIT_BUREAU_YEAR  \n",
       "0                         1.0  \n",
       "1                         0.0  \n",
       "2                         0.0  \n",
       "3                         NaN  \n",
       "4                         0.0  \n",
       "\n",
       "[5 rows x 122 columns]"
      ]
     },
     "execution_count": 2,
     "metadata": {},
     "output_type": "execute_result"
    }
   ],
   "source": [
    "df=pd.read_csv('application_train.csv')\n",
    "df.head()"
   ]
  },
  {
   "cell_type": "code",
   "execution_count": 3,
   "metadata": {},
   "outputs": [
    {
     "data": {
      "text/html": [
       "<div>\n",
       "<style scoped>\n",
       "    .dataframe tbody tr th:only-of-type {\n",
       "        vertical-align: middle;\n",
       "    }\n",
       "\n",
       "    .dataframe tbody tr th {\n",
       "        vertical-align: top;\n",
       "    }\n",
       "\n",
       "    .dataframe thead th {\n",
       "        text-align: right;\n",
       "    }\n",
       "</style>\n",
       "<table border=\"1\" class=\"dataframe\">\n",
       "  <thead>\n",
       "    <tr style=\"text-align: right;\">\n",
       "      <th></th>\n",
       "      <th>FLOORSMIN_MEDI</th>\n",
       "      <th>LANDAREA_MEDI</th>\n",
       "      <th>LIVINGAPARTMENTS_MEDI</th>\n",
       "      <th>LIVINGAREA_MEDI</th>\n",
       "      <th>NONLIVINGAPARTMENTS_MEDI</th>\n",
       "      <th>NONLIVINGAREA_MEDI</th>\n",
       "      <th>FONDKAPREMONT_MODE</th>\n",
       "      <th>HOUSETYPE_MODE</th>\n",
       "      <th>TOTALAREA_MODE</th>\n",
       "      <th>WALLSMATERIAL_MODE</th>\n",
       "    </tr>\n",
       "  </thead>\n",
       "  <tbody>\n",
       "    <tr>\n",
       "      <th>1</th>\n",
       "      <td>0.3333</td>\n",
       "      <td>0.0132</td>\n",
       "      <td>0.0787</td>\n",
       "      <td>0.0558</td>\n",
       "      <td>0.0039</td>\n",
       "      <td>0.01</td>\n",
       "      <td>reg oper account</td>\n",
       "      <td>block of flats</td>\n",
       "      <td>0.0714</td>\n",
       "      <td>Block</td>\n",
       "    </tr>\n",
       "    <tr>\n",
       "      <th>2</th>\n",
       "      <td>NaN</td>\n",
       "      <td>NaN</td>\n",
       "      <td>NaN</td>\n",
       "      <td>NaN</td>\n",
       "      <td>NaN</td>\n",
       "      <td>NaN</td>\n",
       "      <td>NaN</td>\n",
       "      <td>NaN</td>\n",
       "      <td>NaN</td>\n",
       "      <td>NaN</td>\n",
       "    </tr>\n",
       "    <tr>\n",
       "      <th>3</th>\n",
       "      <td>NaN</td>\n",
       "      <td>NaN</td>\n",
       "      <td>NaN</td>\n",
       "      <td>NaN</td>\n",
       "      <td>NaN</td>\n",
       "      <td>NaN</td>\n",
       "      <td>NaN</td>\n",
       "      <td>NaN</td>\n",
       "      <td>NaN</td>\n",
       "      <td>NaN</td>\n",
       "    </tr>\n",
       "    <tr>\n",
       "      <th>4</th>\n",
       "      <td>NaN</td>\n",
       "      <td>NaN</td>\n",
       "      <td>NaN</td>\n",
       "      <td>NaN</td>\n",
       "      <td>NaN</td>\n",
       "      <td>NaN</td>\n",
       "      <td>NaN</td>\n",
       "      <td>NaN</td>\n",
       "      <td>NaN</td>\n",
       "      <td>NaN</td>\n",
       "    </tr>\n",
       "  </tbody>\n",
       "</table>\n",
       "</div>"
      ],
      "text/plain": [
       "   FLOORSMIN_MEDI  LANDAREA_MEDI  LIVINGAPARTMENTS_MEDI  LIVINGAREA_MEDI  \\\n",
       "1          0.3333         0.0132                 0.0787           0.0558   \n",
       "2             NaN            NaN                    NaN              NaN   \n",
       "3             NaN            NaN                    NaN              NaN   \n",
       "4             NaN            NaN                    NaN              NaN   \n",
       "\n",
       "   NONLIVINGAPARTMENTS_MEDI  NONLIVINGAREA_MEDI FONDKAPREMONT_MODE  \\\n",
       "1                    0.0039                0.01   reg oper account   \n",
       "2                       NaN                 NaN                NaN   \n",
       "3                       NaN                 NaN                NaN   \n",
       "4                       NaN                 NaN                NaN   \n",
       "\n",
       "   HOUSETYPE_MODE  TOTALAREA_MODE WALLSMATERIAL_MODE  \n",
       "1  block of flats          0.0714              Block  \n",
       "2             NaN             NaN                NaN  \n",
       "3             NaN             NaN                NaN  \n",
       "4             NaN             NaN                NaN  "
      ]
     },
     "execution_count": 3,
     "metadata": {},
     "output_type": "execute_result"
    }
   ],
   "source": [
    "df.iloc[1:5,80:90]"
   ]
  },
  {
   "cell_type": "code",
   "execution_count": 4,
   "metadata": {},
   "outputs": [
    {
     "data": {
      "text/plain": [
       "SK_ID_CURR                         0\n",
       "TARGET                             0\n",
       "NAME_CONTRACT_TYPE                 0\n",
       "CODE_GENDER                        0\n",
       "FLAG_OWN_CAR                       0\n",
       "FLAG_OWN_REALTY                    0\n",
       "CNT_CHILDREN                       0\n",
       "AMT_INCOME_TOTAL                   0\n",
       "AMT_CREDIT                         0\n",
       "AMT_ANNUITY                       12\n",
       "AMT_GOODS_PRICE                  278\n",
       "NAME_TYPE_SUITE                 1292\n",
       "NAME_INCOME_TYPE                   0\n",
       "NAME_EDUCATION_TYPE                0\n",
       "NAME_FAMILY_STATUS                 0\n",
       "NAME_HOUSING_TYPE                  0\n",
       "REGION_POPULATION_RELATIVE         0\n",
       "DAYS_BIRTH                         0\n",
       "DAYS_EMPLOYED                      0\n",
       "DAYS_REGISTRATION                  0\n",
       "DAYS_ID_PUBLISH                    0\n",
       "OWN_CAR_AGE                   202929\n",
       "FLAG_MOBIL                         0\n",
       "FLAG_EMP_PHONE                     0\n",
       "FLAG_WORK_PHONE                    0\n",
       "FLAG_CONT_MOBILE                   0\n",
       "FLAG_PHONE                         0\n",
       "FLAG_EMAIL                         0\n",
       "OCCUPATION_TYPE                96391\n",
       "CNT_FAM_MEMBERS                    2\n",
       "                               ...  \n",
       "DEF_30_CNT_SOCIAL_CIRCLE        1021\n",
       "OBS_60_CNT_SOCIAL_CIRCLE        1021\n",
       "DEF_60_CNT_SOCIAL_CIRCLE        1021\n",
       "DAYS_LAST_PHONE_CHANGE             1\n",
       "FLAG_DOCUMENT_2                    0\n",
       "FLAG_DOCUMENT_3                    0\n",
       "FLAG_DOCUMENT_4                    0\n",
       "FLAG_DOCUMENT_5                    0\n",
       "FLAG_DOCUMENT_6                    0\n",
       "FLAG_DOCUMENT_7                    0\n",
       "FLAG_DOCUMENT_8                    0\n",
       "FLAG_DOCUMENT_9                    0\n",
       "FLAG_DOCUMENT_10                   0\n",
       "FLAG_DOCUMENT_11                   0\n",
       "FLAG_DOCUMENT_12                   0\n",
       "FLAG_DOCUMENT_13                   0\n",
       "FLAG_DOCUMENT_14                   0\n",
       "FLAG_DOCUMENT_15                   0\n",
       "FLAG_DOCUMENT_16                   0\n",
       "FLAG_DOCUMENT_17                   0\n",
       "FLAG_DOCUMENT_18                   0\n",
       "FLAG_DOCUMENT_19                   0\n",
       "FLAG_DOCUMENT_20                   0\n",
       "FLAG_DOCUMENT_21                   0\n",
       "AMT_REQ_CREDIT_BUREAU_HOUR     41519\n",
       "AMT_REQ_CREDIT_BUREAU_DAY      41519\n",
       "AMT_REQ_CREDIT_BUREAU_WEEK     41519\n",
       "AMT_REQ_CREDIT_BUREAU_MON      41519\n",
       "AMT_REQ_CREDIT_BUREAU_QRT      41519\n",
       "AMT_REQ_CREDIT_BUREAU_YEAR     41519\n",
       "Length: 122, dtype: int64"
      ]
     },
     "execution_count": 4,
     "metadata": {},
     "output_type": "execute_result"
    }
   ],
   "source": [
    "df.isnull().sum()"
   ]
  },
  {
   "cell_type": "markdown",
   "metadata": {},
   "source": [
    "#### Drop the columns with more than 50 NaNs"
   ]
  },
  {
   "cell_type": "markdown",
   "metadata": {},
   "source": [
    "for i in [c for c in df]:\n",
    "    if df[i].isnull().sum()>50:\n",
    "        df.drop(i,axis=1,inplace=True)"
   ]
  },
  {
   "cell_type": "markdown",
   "metadata": {},
   "source": [
    "#### Value counts of first four columns"
   ]
  },
  {
   "cell_type": "code",
   "execution_count": 5,
   "metadata": {},
   "outputs": [
    {
     "data": {
      "image/png": "[encoded data removed]",
      "text/plain": [
       "<Figure size 432x288 with 1 Axes>"
      ]
     },
     "metadata": {},
     "output_type": "display_data"
    }
   ],
   "source": [
    "sns.countplot(df['TARGET'])\n",
    "plt.show()"
   ]
  },
  {
   "cell_type": "code",
   "execution_count": 6,
   "metadata": {},
   "outputs": [
    {
     "data": {
      "image/png": "[encoded data removed]",
      "text/plain": [
       "<Figure size 432x288 with 1 Axes>"
      ]
     },
     "metadata": {},
     "output_type": "display_data"
    }
   ],
   "source": [
    "sns.countplot(df['NAME_CONTRACT_TYPE'],palette=\"Set2\")\n",
    "plt.show()"
   ]
  },
  {
   "cell_type": "code",
   "execution_count": 7,
   "metadata": {},
   "outputs": [
    {
     "data": {
      "image/png": "[encoded data removed]",
      "text/plain": [
       "<Figure size 432x288 with 1 Axes>"
      ]
     },
     "metadata": {},
     "output_type": "display_data"
    }
   ],
   "source": [
    "sns.countplot(df['CODE_GENDER'],palette=\"Set3\")\n",
    "plt.show()"
   ]
  },
  {
   "cell_type": "markdown",
   "metadata": {},
   "source": [
    "#### Drop rows with Gender as XNA"
   ]
  },
  {
   "cell_type": "code",
   "execution_count": 8,
   "metadata": {},
   "outputs": [],
   "source": [
    "df=df[df['CODE_GENDER']!='XNA']"
   ]
  },
  {
   "cell_type": "code",
   "execution_count": 9,
   "metadata": {},
   "outputs": [
    {
     "data": {
      "image/png": "[encoded data removed]",
      "text/plain": [
       "<Figure size 432x288 with 1 Axes>"
      ]
     },
     "metadata": {},
     "output_type": "display_data"
    }
   ],
   "source": [
    "sns.countplot(df['FLAG_OWN_CAR'],palette=\"Set2\")\n",
    "plt.show()"
   ]
  },
  {
   "cell_type": "code",
   "execution_count": 10,
   "metadata": {},
   "outputs": [
    {
     "data": {
      "image/png": "[encoded data removed]",
      "text/plain": [
       "<Figure size 432x288 with 1 Axes>"
      ]
     },
     "metadata": {},
     "output_type": "display_data"
    }
   ],
   "source": [
    "sns.countplot(x='FLAG_OWN_CAR', data=df, hue='CODE_GENDER',palette=\"Set3\")\n",
    "plt.show()"
   ]
  },
  {
   "cell_type": "code",
   "execution_count": 11,
   "metadata": {},
   "outputs": [
    {
     "data": {
      "image/png": "[encoded data removed]",
      "text/plain": [
       "<Figure size 432x288 with 1 Axes>"
      ]
     },
     "metadata": {},
     "output_type": "display_data"
    }
   ],
   "source": [
    "sns.countplot(df['FLAG_OWN_REALTY'],palette=\"Set2\")\n",
    "plt.show()"
   ]
  },
  {
   "cell_type": "code",
   "execution_count": 12,
   "metadata": {},
   "outputs": [
    {
     "data": {
      "image/png": "[encoded data removed]",
      "text/plain": [
       "<Figure size 432x288 with 1 Axes>"
      ]
     },
     "metadata": {},
     "output_type": "display_data"
    }
   ],
   "source": [
    "sns.countplot(x='FLAG_OWN_REALTY', data=df, hue='CODE_GENDER',palette=\"Set3\")\n",
    "plt.show()"
   ]
  },
  {
   "cell_type": "code",
   "execution_count": 13,
   "metadata": {},
   "outputs": [
    {
     "data": {
      "text/plain": [
       "0     215369\n",
       "1      61118\n",
       "2      26748\n",
       "3       3717\n",
       "4        429\n",
       "5         84\n",
       "6         21\n",
       "7          7\n",
       "14         3\n",
       "19         2\n",
       "12         2\n",
       "10         2\n",
       "9          2\n",
       "8          2\n",
       "11         1\n",
       "Name: CNT_CHILDREN, dtype: int64"
      ]
     },
     "execution_count": 13,
     "metadata": {},
     "output_type": "execute_result"
    }
   ],
   "source": [
    "df['CNT_CHILDREN'].value_counts()"
   ]
  },
  {
   "cell_type": "markdown",
   "metadata": {},
   "source": [
    "## Data Wrangling\n",
    "#### Change columns of object format to interger"
   ]
  },
  {
   "cell_type": "code",
   "execution_count": 14,
   "metadata": {},
   "outputs": [],
   "source": [
    "df=df[df['CODE_GENDER']!='XNA']\n",
    "df['NAME_CONTRACT_TYPE']=pd.get_dummies(df['NAME_CONTRACT_TYPE'])['Cash loans']\n",
    "df['CODE_GENDER']=pd.get_dummies(df['CODE_GENDER'])['F']\n",
    "df['FLAG_OWN_CAR']=pd.get_dummies(df['FLAG_OWN_CAR'])['Y']\n",
    "df['FLAG_OWN_REALTY']=pd.get_dummies(df['FLAG_OWN_REALTY'])['Y']\n",
    "dict1={'Working':0, 'State servant':1, 'Commercial associate':2, 'Pensioner':3,\n",
    "       'Unemployed':4, 'Student':5, 'Businessman':6, 'Maternity leave':7}\n",
    "df['NAME_INCOME_TYPE'] = df['NAME_INCOME_TYPE'].map(dict1)\n",
    "dict2={'Secondary / secondary special':0, 'Higher education':1,\n",
    "       'Incomplete higher':2, 'Lower secondary':3, 'Academic degree':4}\n",
    "df['NAME_EDUCATION_TYPE']=df['NAME_EDUCATION_TYPE'].map(dict2)\n",
    "dict3={'Single / not married':0, 'Married':1, 'Civil marriage':2, 'Widow':3,\n",
    "       'Separated':4, 'Unknown':5}\n",
    "df['NAME_FAMILY_STATUS']=df['NAME_FAMILY_STATUS'].map(dict3)\n",
    "dict4={'House / apartment':0, 'Rented apartment':1, 'With parents':2,\n",
    "       'Municipal apartment':3, 'Office apartment':4, 'Co-op apartment':5}\n",
    "df['NAME_HOUSING_TYPE']=df['NAME_HOUSING_TYPE'].map(dict4)\n",
    "dict5={'WEDNESDAY':2, 'MONDAY':0, 'THURSDAY':3, 'SUNDAY':6, 'SATURDAY':5, 'FRIDAY':4,\n",
    "       'TUESDAY':1}\n",
    "df['WEEKDAY_APPR_PROCESS_START']=df['WEEKDAY_APPR_PROCESS_START'].map(dict5)\n",
    "dict6={'Business Entity Type 3':0, 'School':1, 'Government':2, 'Religion':3,\n",
    "       'Other':4, 'XNA':5, 'Electricity':6, 'Medicine':7,\n",
    "       'Business Entity Type 2':8, 'Self-employed':9, 'Transport: type 2':10,\n",
    "       'Construction':11, 'Housing':12, 'Kindergarten':13, 'Trade: type 7':14,\n",
    "       'Industry: type 11':15, 'Military':16, 'Services':17, 'Security Ministries':18,\n",
    "       'Transport: type 4':19, 'Industry: type 1':20, 'Emergency':21, 'Security':22,\n",
    "       'Trade: type 2':23, 'University':24, 'Transport: type 3':25, 'Police':26,\n",
    "       'Business Entity Type 1':27, 'Postal':28, 'Industry: type 4':29,\n",
    "       'Agriculture':30, 'Restaurant':31, 'Culture':32, 'Hotel':33,\n",
    "       'Industry: type 7:':34, 'Trade: type 3':35, 'Industry: type 3':36, 'Bank':37,\n",
    "       'Industry: type 9':38, 'Insurance':39, 'Trade: type 6':40,\n",
    "       'Industry: type 2':41, 'Transport: type 1':42, 'Industry: type 12':43,\n",
    "       'Mobile':57, 'Trade: type 1':44, 'Industry: type 5':45, 'Industry: type 10':46,\n",
    "       'Legal Services':47, 'Advertising':48, 'Trade: type 5':49, 'Cleaning':50,\n",
    "       'Industry: type 13':51, 'Trade: type 4':52, 'Telecom':53,\n",
    "       'Industry: type 8':54, 'Realtor':55, 'Industry: type 6':56}\n",
    "df['ORGANIZATION_TYPE']=df['ORGANIZATION_TYPE'].map(dict6)\n",
    "dict7={'Unaccompanied':0, 'Family':1, 'Spouse, partner':2, 'Children':3,\n",
    "       'Other_A':4,  'Other_B':5, 'Group of people':6}\n",
    "df['NAME_TYPE_SUITE']=df['NAME_TYPE_SUITE'].map(dict7)\n",
    "dict8={'Laborers':0, 'Core staff':1, 'Accountants':2, 'Managers':3, \n",
    "       'Drivers':4, 'Sales staff':5, 'Cleaning staff':6, 'Cooking staff':7,\n",
    "       'Private service staff':8, 'Medicine staff':9, 'Security staff':10,\n",
    "       'High skill tech staff':11, 'Waiters/barmen staff':12,\n",
    "       'Low-skill Laborers':13, 'Realty agents':14, 'Secretaries':15, 'IT staff':16,\n",
    "       'HR staff':17}\n",
    "df['OCCUPATION_TYPE']=df['OCCUPATION_TYPE'].map(dict8)\n",
    "dict9={'reg oper account':0,'org spec account':1,\n",
    "       'reg oper spec account':2, 'not specified':3}\n",
    "df['FONDKAPREMONT_MODE']=df['FONDKAPREMONT_MODE'].map(dict9)\n",
    "dict10={'block of flats':0, 'terraced house':1, 'specific housing':2}\n",
    "df['HOUSETYPE_MODE']=df['HOUSETYPE_MODE'].map(dict10)\n",
    "dict11={'Stone, brick':0, 'Block':1,'Panel':2, 'Mixed':3, 'Wooden':4, 'Others':5,\n",
    "       'Monolithic':6}\n",
    "df['WALLSMATERIAL_MODE']=df['WALLSMATERIAL_MODE'].map(dict11)\n",
    "dict12={'No':0, 'Yes':1}\n",
    "df['EMERGENCYSTATE_MODE']=df['EMERGENCYSTATE_MODE'].map(dict12)\n"
   ]
  },
  {
   "cell_type": "code",
   "execution_count": 52,
   "metadata": {},
   "outputs": [
    {
     "data": {
      "text/plain": [
       "SK_ID_CURR                   -0.002111\n",
       "TARGET                        1.000000\n",
       "NAME_CONTRACT_TYPE            0.030886\n",
       "CODE_GENDER                  -0.054710\n",
       "FLAG_OWN_CAR                 -0.021850\n",
       "FLAG_OWN_REALTY              -0.006146\n",
       "CNT_CHILDREN                  0.019189\n",
       "AMT_INCOME_TOTAL             -0.003982\n",
       "AMT_CREDIT                   -0.030371\n",
       "AMT_ANNUITY                  -0.012818\n",
       "AMT_GOODS_PRICE              -0.039630\n",
       "NAME_TYPE_SUITE              -0.002815\n",
       "NAME_INCOME_TYPE             -0.057022\n",
       "NAME_EDUCATION_TYPE          -0.032432\n",
       "NAME_FAMILY_STATUS           -0.010696\n",
       "NAME_HOUSING_TYPE             0.018338\n",
       "REGION_POPULATION_RELATIVE   -0.037225\n",
       "DAYS_BIRTH                    0.078242\n",
       "DAYS_EMPLOYED                -0.044934\n",
       "DAYS_REGISTRATION             0.041976\n",
       "DAYS_ID_PUBLISH               0.051457\n",
       "OWN_CAR_AGE                   0.020871\n",
       "FLAG_MOBIL                    0.000534\n",
       "FLAG_EMP_PHONE                0.045984\n",
       "FLAG_WORK_PHONE               0.028533\n",
       "FLAG_CONT_MOBILE              0.000370\n",
       "FLAG_PHONE                   -0.023801\n",
       "FLAG_EMAIL                   -0.001759\n",
       "OCCUPATION_TYPE              -0.004419\n",
       "CNT_FAM_MEMBERS               0.009310\n",
       "                                ...   \n",
       "DEF_30_CNT_SOCIAL_CIRCLE      0.032235\n",
       "OBS_60_CNT_SOCIAL_CIRCLE      0.009020\n",
       "DEF_60_CNT_SOCIAL_CIRCLE      0.031270\n",
       "DAYS_LAST_PHONE_CHANGE        0.055219\n",
       "FLAG_DOCUMENT_2               0.005417\n",
       "FLAG_DOCUMENT_3               0.044341\n",
       "FLAG_DOCUMENT_4              -0.002672\n",
       "FLAG_DOCUMENT_5              -0.000316\n",
       "FLAG_DOCUMENT_6              -0.028603\n",
       "FLAG_DOCUMENT_7              -0.001520\n",
       "FLAG_DOCUMENT_8              -0.008042\n",
       "FLAG_DOCUMENT_9              -0.004353\n",
       "FLAG_DOCUMENT_10             -0.001414\n",
       "FLAG_DOCUMENT_11             -0.004230\n",
       "FLAG_DOCUMENT_12             -0.000756\n",
       "FLAG_DOCUMENT_13             -0.011583\n",
       "FLAG_DOCUMENT_14             -0.009464\n",
       "FLAG_DOCUMENT_15             -0.006536\n",
       "FLAG_DOCUMENT_16             -0.011615\n",
       "FLAG_DOCUMENT_17             -0.003378\n",
       "FLAG_DOCUMENT_18             -0.007953\n",
       "FLAG_DOCUMENT_19             -0.001358\n",
       "FLAG_DOCUMENT_20              0.000215\n",
       "FLAG_DOCUMENT_21              0.003709\n",
       "AMT_REQ_CREDIT_BUREAU_HOUR    0.000848\n",
       "AMT_REQ_CREDIT_BUREAU_DAY     0.002464\n",
       "AMT_REQ_CREDIT_BUREAU_WEEK    0.000717\n",
       "AMT_REQ_CREDIT_BUREAU_MON    -0.011354\n",
       "AMT_REQ_CREDIT_BUREAU_QRT    -0.001842\n",
       "AMT_REQ_CREDIT_BUREAU_YEAR    0.018164\n",
       "Name: TARGET, Length: 122, dtype: float64"
      ]
     },
     "execution_count": 52,
     "metadata": {},
     "output_type": "execute_result"
    }
   ],
   "source": [
    "df.corr()['TARGET']"
   ]
  },
  {
   "cell_type": "markdown",
   "metadata": {},
   "source": [
    "Fill the NaN values with mean value of each column"
   ]
  },
  {
   "cell_type": "code",
   "execution_count": 15,
   "metadata": {},
   "outputs": [],
   "source": [
    "df=df.apply(lambda x: x.fillna(x.mean()),axis=0)"
   ]
  },
  {
   "cell_type": "code",
   "execution_count": 16,
   "metadata": {},
   "outputs": [],
   "source": [
    "Train=df"
   ]
  },
  {
   "cell_type": "markdown",
   "metadata": {},
   "source": [
    "#### Statistics of each column"
   ]
  },
  {
   "cell_type": "code",
   "execution_count": 17,
   "metadata": {},
   "outputs": [
    {
     "data": {
      "text/html": [
       "<div>\n",
       "<style scoped>\n",
       "    .dataframe tbody tr th:only-of-type {\n",
       "        vertical-align: middle;\n",
       "    }\n",
       "\n",
       "    .dataframe tbody tr th {\n",
       "        vertical-align: top;\n",
       "    }\n",
       "\n",
       "    .dataframe thead th {\n",
       "        text-align: right;\n",
       "    }\n",
       "</style>\n",
       "<table border=\"1\" class=\"dataframe\">\n",
       "  <thead>\n",
       "    <tr style=\"text-align: right;\">\n",
       "      <th></th>\n",
       "      <th>count</th>\n",
       "      <th>mean</th>\n",
       "      <th>std</th>\n",
       "      <th>min</th>\n",
       "      <th>25%</th>\n",
       "      <th>50%</th>\n",
       "      <th>75%</th>\n",
       "      <th>max</th>\n",
       "    </tr>\n",
       "  </thead>\n",
       "  <tbody>\n",
       "    <tr>\n",
       "      <th>SK_ID_CURR</th>\n",
       "      <td>307507.0</td>\n",
       "      <td>278181.527256</td>\n",
       "      <td>102790.132982</td>\n",
       "      <td>100002.00000</td>\n",
       "      <td>189146.500000</td>\n",
       "      <td>278203.000000</td>\n",
       "      <td>367143.500000</td>\n",
       "      <td>4.562550e+05</td>\n",
       "    </tr>\n",
       "    <tr>\n",
       "      <th>TARGET</th>\n",
       "      <td>307507.0</td>\n",
       "      <td>0.080730</td>\n",
       "      <td>0.272420</td>\n",
       "      <td>0.00000</td>\n",
       "      <td>0.000000</td>\n",
       "      <td>0.000000</td>\n",
       "      <td>0.000000</td>\n",
       "      <td>1.000000e+00</td>\n",
       "    </tr>\n",
       "    <tr>\n",
       "      <th>NAME_CONTRACT_TYPE</th>\n",
       "      <td>307507.0</td>\n",
       "      <td>0.904799</td>\n",
       "      <td>0.293493</td>\n",
       "      <td>0.00000</td>\n",
       "      <td>1.000000</td>\n",
       "      <td>1.000000</td>\n",
       "      <td>1.000000</td>\n",
       "      <td>1.000000e+00</td>\n",
       "    </tr>\n",
       "    <tr>\n",
       "      <th>CODE_GENDER</th>\n",
       "      <td>307507.0</td>\n",
       "      <td>0.658352</td>\n",
       "      <td>0.474263</td>\n",
       "      <td>0.00000</td>\n",
       "      <td>0.000000</td>\n",
       "      <td>1.000000</td>\n",
       "      <td>1.000000</td>\n",
       "      <td>1.000000e+00</td>\n",
       "    </tr>\n",
       "    <tr>\n",
       "      <th>FLAG_OWN_CAR</th>\n",
       "      <td>307507.0</td>\n",
       "      <td>0.340106</td>\n",
       "      <td>0.473745</td>\n",
       "      <td>0.00000</td>\n",
       "      <td>0.000000</td>\n",
       "      <td>0.000000</td>\n",
       "      <td>1.000000</td>\n",
       "      <td>1.000000e+00</td>\n",
       "    </tr>\n",
       "    <tr>\n",
       "      <th>FLAG_OWN_REALTY</th>\n",
       "      <td>307507.0</td>\n",
       "      <td>0.693669</td>\n",
       "      <td>0.460970</td>\n",
       "      <td>0.00000</td>\n",
       "      <td>0.000000</td>\n",
       "      <td>1.000000</td>\n",
       "      <td>1.000000</td>\n",
       "      <td>1.000000e+00</td>\n",
       "    </tr>\n",
       "    <tr>\n",
       "      <th>CNT_CHILDREN</th>\n",
       "      <td>307507.0</td>\n",
       "      <td>0.417047</td>\n",
       "      <td>0.722119</td>\n",
       "      <td>0.00000</td>\n",
       "      <td>0.000000</td>\n",
       "      <td>0.000000</td>\n",
       "      <td>1.000000</td>\n",
       "      <td>1.900000e+01</td>\n",
       "    </tr>\n",
       "    <tr>\n",
       "      <th>AMT_INCOME_TOTAL</th>\n",
       "      <td>307507.0</td>\n",
       "      <td>168797.685779</td>\n",
       "      <td>237124.627320</td>\n",
       "      <td>25650.00000</td>\n",
       "      <td>112500.000000</td>\n",
       "      <td>147150.000000</td>\n",
       "      <td>202500.000000</td>\n",
       "      <td>1.170000e+08</td>\n",
       "    </tr>\n",
       "    <tr>\n",
       "      <th>AMT_CREDIT</th>\n",
       "      <td>307507.0</td>\n",
       "      <td>599028.596733</td>\n",
       "      <td>402492.601859</td>\n",
       "      <td>45000.00000</td>\n",
       "      <td>270000.000000</td>\n",
       "      <td>513531.000000</td>\n",
       "      <td>808650.000000</td>\n",
       "      <td>4.050000e+06</td>\n",
       "    </tr>\n",
       "    <tr>\n",
       "      <th>AMT_ANNUITY</th>\n",
       "      <td>307507.0</td>\n",
       "      <td>27108.666786</td>\n",
       "      <td>14493.515575</td>\n",
       "      <td>1615.50000</td>\n",
       "      <td>16524.000000</td>\n",
       "      <td>24903.000000</td>\n",
       "      <td>34596.000000</td>\n",
       "      <td>2.580255e+05</td>\n",
       "    </tr>\n",
       "    <tr>\n",
       "      <th>AMT_GOODS_PRICE</th>\n",
       "      <td>307507.0</td>\n",
       "      <td>538397.724489</td>\n",
       "      <td>369280.209789</td>\n",
       "      <td>40500.00000</td>\n",
       "      <td>238500.000000</td>\n",
       "      <td>450000.000000</td>\n",
       "      <td>679500.000000</td>\n",
       "      <td>4.050000e+06</td>\n",
       "    </tr>\n",
       "    <tr>\n",
       "      <th>NAME_TYPE_SUITE</th>\n",
       "      <td>307507.0</td>\n",
       "      <td>0.282903</td>\n",
       "      <td>0.717680</td>\n",
       "      <td>0.00000</td>\n",
       "      <td>0.000000</td>\n",
       "      <td>0.000000</td>\n",
       "      <td>0.000000</td>\n",
       "      <td>6.000000e+00</td>\n",
       "    </tr>\n",
       "    <tr>\n",
       "      <th>NAME_INCOME_TYPE</th>\n",
       "      <td>307507.0</td>\n",
       "      <td>1.077354</td>\n",
       "      <td>1.210929</td>\n",
       "      <td>0.00000</td>\n",
       "      <td>0.000000</td>\n",
       "      <td>0.000000</td>\n",
       "      <td>2.000000</td>\n",
       "      <td>7.000000e+00</td>\n",
       "    </tr>\n",
       "    <tr>\n",
       "      <th>NAME_EDUCATION_TYPE</th>\n",
       "      <td>307507.0</td>\n",
       "      <td>0.349644</td>\n",
       "      <td>0.612442</td>\n",
       "      <td>0.00000</td>\n",
       "      <td>0.000000</td>\n",
       "      <td>0.000000</td>\n",
       "      <td>1.000000</td>\n",
       "      <td>4.000000e+00</td>\n",
       "    </tr>\n",
       "    <tr>\n",
       "      <th>NAME_FAMILY_STATUS</th>\n",
       "      <td>307507.0</td>\n",
       "      <td>1.246577</td>\n",
       "      <td>0.985801</td>\n",
       "      <td>0.00000</td>\n",
       "      <td>1.000000</td>\n",
       "      <td>1.000000</td>\n",
       "      <td>1.000000</td>\n",
       "      <td>5.000000e+00</td>\n",
       "    </tr>\n",
       "    <tr>\n",
       "      <th>NAME_HOUSING_TYPE</th>\n",
       "      <td>307507.0</td>\n",
       "      <td>0.273766</td>\n",
       "      <td>0.829830</td>\n",
       "      <td>0.00000</td>\n",
       "      <td>0.000000</td>\n",
       "      <td>0.000000</td>\n",
       "      <td>0.000000</td>\n",
       "      <td>5.000000e+00</td>\n",
       "    </tr>\n",
       "    <tr>\n",
       "      <th>REGION_POPULATION_RELATIVE</th>\n",
       "      <td>307507.0</td>\n",
       "      <td>0.020868</td>\n",
       "      <td>0.013831</td>\n",
       "      <td>0.00029</td>\n",
       "      <td>0.010006</td>\n",
       "      <td>0.018850</td>\n",
       "      <td>0.028663</td>\n",
       "      <td>7.250800e-02</td>\n",
       "    </tr>\n",
       "    <tr>\n",
       "      <th>DAYS_BIRTH</th>\n",
       "      <td>307507.0</td>\n",
       "      <td>-16037.027271</td>\n",
       "      <td>4363.982424</td>\n",
       "      <td>-25229.00000</td>\n",
       "      <td>-19682.000000</td>\n",
       "      <td>-15750.000000</td>\n",
       "      <td>-12413.000000</td>\n",
       "      <td>-7.489000e+03</td>\n",
       "    </tr>\n",
       "    <tr>\n",
       "      <th>DAYS_EMPLOYED</th>\n",
       "      <td>307507.0</td>\n",
       "      <td>63815.929208</td>\n",
       "      <td>141276.472519</td>\n",
       "      <td>-17912.00000</td>\n",
       "      <td>-2760.000000</td>\n",
       "      <td>-1213.000000</td>\n",
       "      <td>-289.000000</td>\n",
       "      <td>3.652430e+05</td>\n",
       "    </tr>\n",
       "    <tr>\n",
       "      <th>DAYS_REGISTRATION</th>\n",
       "      <td>307507.0</td>\n",
       "      <td>-4986.131376</td>\n",
       "      <td>3522.883030</td>\n",
       "      <td>-24672.00000</td>\n",
       "      <td>-7479.500000</td>\n",
       "      <td>-4504.000000</td>\n",
       "      <td>-2010.000000</td>\n",
       "      <td>0.000000e+00</td>\n",
       "    </tr>\n",
       "    <tr>\n",
       "      <th>DAYS_ID_PUBLISH</th>\n",
       "      <td>307507.0</td>\n",
       "      <td>-2994.201670</td>\n",
       "      <td>1509.454566</td>\n",
       "      <td>-7197.00000</td>\n",
       "      <td>-4299.000000</td>\n",
       "      <td>-3254.000000</td>\n",
       "      <td>-1720.000000</td>\n",
       "      <td>0.000000e+00</td>\n",
       "    </tr>\n",
       "    <tr>\n",
       "      <th>OWN_CAR_AGE</th>\n",
       "      <td>307507.0</td>\n",
       "      <td>12.061121</td>\n",
       "      <td>6.965923</td>\n",
       "      <td>0.00000</td>\n",
       "      <td>12.061121</td>\n",
       "      <td>12.061121</td>\n",
       "      <td>12.061121</td>\n",
       "      <td>9.100000e+01</td>\n",
       "    </tr>\n",
       "    <tr>\n",
       "      <th>FLAG_MOBIL</th>\n",
       "      <td>307507.0</td>\n",
       "      <td>0.999997</td>\n",
       "      <td>0.001803</td>\n",
       "      <td>0.00000</td>\n",
       "      <td>1.000000</td>\n",
       "      <td>1.000000</td>\n",
       "      <td>1.000000</td>\n",
       "      <td>1.000000e+00</td>\n",
       "    </tr>\n",
       "    <tr>\n",
       "      <th>FLAG_EMP_PHONE</th>\n",
       "      <td>307507.0</td>\n",
       "      <td>0.819887</td>\n",
       "      <td>0.384282</td>\n",
       "      <td>0.00000</td>\n",
       "      <td>1.000000</td>\n",
       "      <td>1.000000</td>\n",
       "      <td>1.000000</td>\n",
       "      <td>1.000000e+00</td>\n",
       "    </tr>\n",
       "    <tr>\n",
       "      <th>FLAG_WORK_PHONE</th>\n",
       "      <td>307507.0</td>\n",
       "      <td>0.199358</td>\n",
       "      <td>0.399518</td>\n",
       "      <td>0.00000</td>\n",
       "      <td>0.000000</td>\n",
       "      <td>0.000000</td>\n",
       "      <td>0.000000</td>\n",
       "      <td>1.000000e+00</td>\n",
       "    </tr>\n",
       "    <tr>\n",
       "      <th>FLAG_CONT_MOBILE</th>\n",
       "      <td>307507.0</td>\n",
       "      <td>0.998133</td>\n",
       "      <td>0.043164</td>\n",
       "      <td>0.00000</td>\n",
       "      <td>1.000000</td>\n",
       "      <td>1.000000</td>\n",
       "      <td>1.000000</td>\n",
       "      <td>1.000000e+00</td>\n",
       "    </tr>\n",
       "    <tr>\n",
       "      <th>FLAG_PHONE</th>\n",
       "      <td>307507.0</td>\n",
       "      <td>0.281057</td>\n",
       "      <td>0.449516</td>\n",
       "      <td>0.00000</td>\n",
       "      <td>0.000000</td>\n",
       "      <td>0.000000</td>\n",
       "      <td>1.000000</td>\n",
       "      <td>1.000000e+00</td>\n",
       "    </tr>\n",
       "    <tr>\n",
       "      <th>FLAG_EMAIL</th>\n",
       "      <td>307507.0</td>\n",
       "      <td>0.056721</td>\n",
       "      <td>0.231308</td>\n",
       "      <td>0.00000</td>\n",
       "      <td>0.000000</td>\n",
       "      <td>0.000000</td>\n",
       "      <td>0.000000</td>\n",
       "      <td>1.000000e+00</td>\n",
       "    </tr>\n",
       "    <tr>\n",
       "      <th>OCCUPATION_TYPE</th>\n",
       "      <td>307507.0</td>\n",
       "      <td>3.778252</td>\n",
       "      <td>3.123767</td>\n",
       "      <td>0.00000</td>\n",
       "      <td>1.000000</td>\n",
       "      <td>3.778252</td>\n",
       "      <td>5.000000</td>\n",
       "      <td>1.700000e+01</td>\n",
       "    </tr>\n",
       "    <tr>\n",
       "      <th>CNT_FAM_MEMBERS</th>\n",
       "      <td>307507.0</td>\n",
       "      <td>2.152658</td>\n",
       "      <td>0.910677</td>\n",
       "      <td>1.00000</td>\n",
       "      <td>2.000000</td>\n",
       "      <td>2.000000</td>\n",
       "      <td>3.000000</td>\n",
       "      <td>2.000000e+01</td>\n",
       "    </tr>\n",
       "    <tr>\n",
       "      <th>...</th>\n",
       "      <td>...</td>\n",
       "      <td>...</td>\n",
       "      <td>...</td>\n",
       "      <td>...</td>\n",
       "      <td>...</td>\n",
       "      <td>...</td>\n",
       "      <td>...</td>\n",
       "      <td>...</td>\n",
       "    </tr>\n",
       "    <tr>\n",
       "      <th>DEF_30_CNT_SOCIAL_CIRCLE</th>\n",
       "      <td>307507.0</td>\n",
       "      <td>0.143406</td>\n",
       "      <td>0.445902</td>\n",
       "      <td>0.00000</td>\n",
       "      <td>0.000000</td>\n",
       "      <td>0.000000</td>\n",
       "      <td>0.000000</td>\n",
       "      <td>3.400000e+01</td>\n",
       "    </tr>\n",
       "    <tr>\n",
       "      <th>OBS_60_CNT_SOCIAL_CIRCLE</th>\n",
       "      <td>307507.0</td>\n",
       "      <td>1.405255</td>\n",
       "      <td>2.375790</td>\n",
       "      <td>0.00000</td>\n",
       "      <td>0.000000</td>\n",
       "      <td>0.000000</td>\n",
       "      <td>2.000000</td>\n",
       "      <td>3.440000e+02</td>\n",
       "    </tr>\n",
       "    <tr>\n",
       "      <th>DEF_60_CNT_SOCIAL_CIRCLE</th>\n",
       "      <td>307507.0</td>\n",
       "      <td>0.100034</td>\n",
       "      <td>0.361619</td>\n",
       "      <td>0.00000</td>\n",
       "      <td>0.000000</td>\n",
       "      <td>0.000000</td>\n",
       "      <td>0.000000</td>\n",
       "      <td>2.400000e+01</td>\n",
       "    </tr>\n",
       "    <tr>\n",
       "      <th>DAYS_LAST_PHONE_CHANGE</th>\n",
       "      <td>307507.0</td>\n",
       "      <td>-962.860546</td>\n",
       "      <td>826.810146</td>\n",
       "      <td>-4292.00000</td>\n",
       "      <td>-1570.000000</td>\n",
       "      <td>-757.000000</td>\n",
       "      <td>-274.000000</td>\n",
       "      <td>0.000000e+00</td>\n",
       "    </tr>\n",
       "    <tr>\n",
       "      <th>FLAG_DOCUMENT_2</th>\n",
       "      <td>307507.0</td>\n",
       "      <td>0.000042</td>\n",
       "      <td>0.006502</td>\n",
       "      <td>0.00000</td>\n",
       "      <td>0.000000</td>\n",
       "      <td>0.000000</td>\n",
       "      <td>0.000000</td>\n",
       "      <td>1.000000e+00</td>\n",
       "    </tr>\n",
       "    <tr>\n",
       "      <th>FLAG_DOCUMENT_3</th>\n",
       "      <td>307507.0</td>\n",
       "      <td>0.710033</td>\n",
       "      <td>0.453748</td>\n",
       "      <td>0.00000</td>\n",
       "      <td>0.000000</td>\n",
       "      <td>1.000000</td>\n",
       "      <td>1.000000</td>\n",
       "      <td>1.000000e+00</td>\n",
       "    </tr>\n",
       "    <tr>\n",
       "      <th>FLAG_DOCUMENT_4</th>\n",
       "      <td>307507.0</td>\n",
       "      <td>0.000081</td>\n",
       "      <td>0.009016</td>\n",
       "      <td>0.00000</td>\n",
       "      <td>0.000000</td>\n",
       "      <td>0.000000</td>\n",
       "      <td>0.000000</td>\n",
       "      <td>1.000000e+00</td>\n",
       "    </tr>\n",
       "    <tr>\n",
       "      <th>FLAG_DOCUMENT_5</th>\n",
       "      <td>307507.0</td>\n",
       "      <td>0.015115</td>\n",
       "      <td>0.122011</td>\n",
       "      <td>0.00000</td>\n",
       "      <td>0.000000</td>\n",
       "      <td>0.000000</td>\n",
       "      <td>0.000000</td>\n",
       "      <td>1.000000e+00</td>\n",
       "    </tr>\n",
       "    <tr>\n",
       "      <th>FLAG_DOCUMENT_6</th>\n",
       "      <td>307507.0</td>\n",
       "      <td>0.088057</td>\n",
       "      <td>0.283378</td>\n",
       "      <td>0.00000</td>\n",
       "      <td>0.000000</td>\n",
       "      <td>0.000000</td>\n",
       "      <td>0.000000</td>\n",
       "      <td>1.000000e+00</td>\n",
       "    </tr>\n",
       "    <tr>\n",
       "      <th>FLAG_DOCUMENT_7</th>\n",
       "      <td>307507.0</td>\n",
       "      <td>0.000192</td>\n",
       "      <td>0.013850</td>\n",
       "      <td>0.00000</td>\n",
       "      <td>0.000000</td>\n",
       "      <td>0.000000</td>\n",
       "      <td>0.000000</td>\n",
       "      <td>1.000000e+00</td>\n",
       "    </tr>\n",
       "    <tr>\n",
       "      <th>FLAG_DOCUMENT_8</th>\n",
       "      <td>307507.0</td>\n",
       "      <td>0.081377</td>\n",
       "      <td>0.273414</td>\n",
       "      <td>0.00000</td>\n",
       "      <td>0.000000</td>\n",
       "      <td>0.000000</td>\n",
       "      <td>0.000000</td>\n",
       "      <td>1.000000e+00</td>\n",
       "    </tr>\n",
       "    <tr>\n",
       "      <th>FLAG_DOCUMENT_9</th>\n",
       "      <td>307507.0</td>\n",
       "      <td>0.003896</td>\n",
       "      <td>0.062295</td>\n",
       "      <td>0.00000</td>\n",
       "      <td>0.000000</td>\n",
       "      <td>0.000000</td>\n",
       "      <td>0.000000</td>\n",
       "      <td>1.000000e+00</td>\n",
       "    </tr>\n",
       "    <tr>\n",
       "      <th>FLAG_DOCUMENT_10</th>\n",
       "      <td>307507.0</td>\n",
       "      <td>0.000023</td>\n",
       "      <td>0.004771</td>\n",
       "      <td>0.00000</td>\n",
       "      <td>0.000000</td>\n",
       "      <td>0.000000</td>\n",
       "      <td>0.000000</td>\n",
       "      <td>1.000000e+00</td>\n",
       "    </tr>\n",
       "    <tr>\n",
       "      <th>FLAG_DOCUMENT_11</th>\n",
       "      <td>307507.0</td>\n",
       "      <td>0.003912</td>\n",
       "      <td>0.062424</td>\n",
       "      <td>0.00000</td>\n",
       "      <td>0.000000</td>\n",
       "      <td>0.000000</td>\n",
       "      <td>0.000000</td>\n",
       "      <td>1.000000e+00</td>\n",
       "    </tr>\n",
       "    <tr>\n",
       "      <th>FLAG_DOCUMENT_12</th>\n",
       "      <td>307507.0</td>\n",
       "      <td>0.000007</td>\n",
       "      <td>0.002550</td>\n",
       "      <td>0.00000</td>\n",
       "      <td>0.000000</td>\n",
       "      <td>0.000000</td>\n",
       "      <td>0.000000</td>\n",
       "      <td>1.000000e+00</td>\n",
       "    </tr>\n",
       "    <tr>\n",
       "      <th>FLAG_DOCUMENT_13</th>\n",
       "      <td>307507.0</td>\n",
       "      <td>0.003525</td>\n",
       "      <td>0.059268</td>\n",
       "      <td>0.00000</td>\n",
       "      <td>0.000000</td>\n",
       "      <td>0.000000</td>\n",
       "      <td>0.000000</td>\n",
       "      <td>1.000000e+00</td>\n",
       "    </tr>\n",
       "    <tr>\n",
       "      <th>FLAG_DOCUMENT_14</th>\n",
       "      <td>307507.0</td>\n",
       "      <td>0.002937</td>\n",
       "      <td>0.054110</td>\n",
       "      <td>0.00000</td>\n",
       "      <td>0.000000</td>\n",
       "      <td>0.000000</td>\n",
       "      <td>0.000000</td>\n",
       "      <td>1.000000e+00</td>\n",
       "    </tr>\n",
       "    <tr>\n",
       "      <th>FLAG_DOCUMENT_15</th>\n",
       "      <td>307507.0</td>\n",
       "      <td>0.001210</td>\n",
       "      <td>0.034760</td>\n",
       "      <td>0.00000</td>\n",
       "      <td>0.000000</td>\n",
       "      <td>0.000000</td>\n",
       "      <td>0.000000</td>\n",
       "      <td>1.000000e+00</td>\n",
       "    </tr>\n",
       "    <tr>\n",
       "      <th>FLAG_DOCUMENT_16</th>\n",
       "      <td>307507.0</td>\n",
       "      <td>0.009928</td>\n",
       "      <td>0.099145</td>\n",
       "      <td>0.00000</td>\n",
       "      <td>0.000000</td>\n",
       "      <td>0.000000</td>\n",
       "      <td>0.000000</td>\n",
       "      <td>1.000000e+00</td>\n",
       "    </tr>\n",
       "    <tr>\n",
       "      <th>FLAG_DOCUMENT_17</th>\n",
       "      <td>307507.0</td>\n",
       "      <td>0.000267</td>\n",
       "      <td>0.016328</td>\n",
       "      <td>0.00000</td>\n",
       "      <td>0.000000</td>\n",
       "      <td>0.000000</td>\n",
       "      <td>0.000000</td>\n",
       "      <td>1.000000e+00</td>\n",
       "    </tr>\n",
       "    <tr>\n",
       "      <th>FLAG_DOCUMENT_18</th>\n",
       "      <td>307507.0</td>\n",
       "      <td>0.008130</td>\n",
       "      <td>0.089799</td>\n",
       "      <td>0.00000</td>\n",
       "      <td>0.000000</td>\n",
       "      <td>0.000000</td>\n",
       "      <td>0.000000</td>\n",
       "      <td>1.000000e+00</td>\n",
       "    </tr>\n",
       "    <tr>\n",
       "      <th>FLAG_DOCUMENT_19</th>\n",
       "      <td>307507.0</td>\n",
       "      <td>0.000595</td>\n",
       "      <td>0.024388</td>\n",
       "      <td>0.00000</td>\n",
       "      <td>0.000000</td>\n",
       "      <td>0.000000</td>\n",
       "      <td>0.000000</td>\n",
       "      <td>1.000000e+00</td>\n",
       "    </tr>\n",
       "    <tr>\n",
       "      <th>FLAG_DOCUMENT_20</th>\n",
       "      <td>307507.0</td>\n",
       "      <td>0.000507</td>\n",
       "      <td>0.022518</td>\n",
       "      <td>0.00000</td>\n",
       "      <td>0.000000</td>\n",
       "      <td>0.000000</td>\n",
       "      <td>0.000000</td>\n",
       "      <td>1.000000e+00</td>\n",
       "    </tr>\n",
       "    <tr>\n",
       "      <th>FLAG_DOCUMENT_21</th>\n",
       "      <td>307507.0</td>\n",
       "      <td>0.000335</td>\n",
       "      <td>0.018299</td>\n",
       "      <td>0.00000</td>\n",
       "      <td>0.000000</td>\n",
       "      <td>0.000000</td>\n",
       "      <td>0.000000</td>\n",
       "      <td>1.000000e+00</td>\n",
       "    </tr>\n",
       "    <tr>\n",
       "      <th>AMT_REQ_CREDIT_BUREAU_HOUR</th>\n",
       "      <td>307507.0</td>\n",
       "      <td>0.006403</td>\n",
       "      <td>0.077984</td>\n",
       "      <td>0.00000</td>\n",
       "      <td>0.000000</td>\n",
       "      <td>0.000000</td>\n",
       "      <td>0.000000</td>\n",
       "      <td>4.000000e+00</td>\n",
       "    </tr>\n",
       "    <tr>\n",
       "      <th>AMT_REQ_CREDIT_BUREAU_DAY</th>\n",
       "      <td>307507.0</td>\n",
       "      <td>0.007000</td>\n",
       "      <td>0.103010</td>\n",
       "      <td>0.00000</td>\n",
       "      <td>0.000000</td>\n",
       "      <td>0.000000</td>\n",
       "      <td>0.000000</td>\n",
       "      <td>9.000000e+00</td>\n",
       "    </tr>\n",
       "    <tr>\n",
       "      <th>AMT_REQ_CREDIT_BUREAU_WEEK</th>\n",
       "      <td>307507.0</td>\n",
       "      <td>0.034362</td>\n",
       "      <td>0.190367</td>\n",
       "      <td>0.00000</td>\n",
       "      <td>0.000000</td>\n",
       "      <td>0.000000</td>\n",
       "      <td>0.000000</td>\n",
       "      <td>8.000000e+00</td>\n",
       "    </tr>\n",
       "    <tr>\n",
       "      <th>AMT_REQ_CREDIT_BUREAU_MON</th>\n",
       "      <td>307507.0</td>\n",
       "      <td>0.267388</td>\n",
       "      <td>0.851914</td>\n",
       "      <td>0.00000</td>\n",
       "      <td>0.000000</td>\n",
       "      <td>0.000000</td>\n",
       "      <td>0.267388</td>\n",
       "      <td>2.700000e+01</td>\n",
       "    </tr>\n",
       "    <tr>\n",
       "      <th>AMT_REQ_CREDIT_BUREAU_QRT</th>\n",
       "      <td>307507.0</td>\n",
       "      <td>0.265474</td>\n",
       "      <td>0.738510</td>\n",
       "      <td>0.00000</td>\n",
       "      <td>0.000000</td>\n",
       "      <td>0.000000</td>\n",
       "      <td>0.265474</td>\n",
       "      <td>2.610000e+02</td>\n",
       "    </tr>\n",
       "    <tr>\n",
       "      <th>AMT_REQ_CREDIT_BUREAU_YEAR</th>\n",
       "      <td>307507.0</td>\n",
       "      <td>1.899950</td>\n",
       "      <td>1.738518</td>\n",
       "      <td>0.00000</td>\n",
       "      <td>1.000000</td>\n",
       "      <td>1.899950</td>\n",
       "      <td>3.000000</td>\n",
       "      <td>2.500000e+01</td>\n",
       "    </tr>\n",
       "  </tbody>\n",
       "</table>\n",
       "<p>122 rows × 8 columns</p>\n",
       "</div>"
      ],
      "text/plain": [
       "                               count           mean            std  \\\n",
       "SK_ID_CURR                  307507.0  278181.527256  102790.132982   \n",
       "TARGET                      307507.0       0.080730       0.272420   \n",
       "NAME_CONTRACT_TYPE          307507.0       0.904799       0.293493   \n",
       "CODE_GENDER                 307507.0       0.658352       0.474263   \n",
       "FLAG_OWN_CAR                307507.0       0.340106       0.473745   \n",
       "FLAG_OWN_REALTY             307507.0       0.693669       0.460970   \n",
       "CNT_CHILDREN                307507.0       0.417047       0.722119   \n",
       "AMT_INCOME_TOTAL            307507.0  168797.685779  237124.627320   \n",
       "AMT_CREDIT                  307507.0  599028.596733  402492.601859   \n",
       "AMT_ANNUITY                 307507.0   27108.666786   14493.515575   \n",
       "AMT_GOODS_PRICE             307507.0  538397.724489  369280.209789   \n",
       "NAME_TYPE_SUITE             307507.0       0.282903       0.717680   \n",
       "NAME_INCOME_TYPE            307507.0       1.077354       1.210929   \n",
       "NAME_EDUCATION_TYPE         307507.0       0.349644       0.612442   \n",
       "NAME_FAMILY_STATUS          307507.0       1.246577       0.985801   \n",
       "NAME_HOUSING_TYPE           307507.0       0.273766       0.829830   \n",
       "REGION_POPULATION_RELATIVE  307507.0       0.020868       0.013831   \n",
       "DAYS_BIRTH                  307507.0  -16037.027271    4363.982424   \n",
       "DAYS_EMPLOYED               307507.0   63815.929208  141276.472519   \n",
       "DAYS_REGISTRATION           307507.0   -4986.131376    3522.883030   \n",
       "DAYS_ID_PUBLISH             307507.0   -2994.201670    1509.454566   \n",
       "OWN_CAR_AGE                 307507.0      12.061121       6.965923   \n",
       "FLAG_MOBIL                  307507.0       0.999997       0.001803   \n",
       "FLAG_EMP_PHONE              307507.0       0.819887       0.384282   \n",
       "FLAG_WORK_PHONE             307507.0       0.199358       0.399518   \n",
       "FLAG_CONT_MOBILE            307507.0       0.998133       0.043164   \n",
       "FLAG_PHONE                  307507.0       0.281057       0.449516   \n",
       "FLAG_EMAIL                  307507.0       0.056721       0.231308   \n",
       "OCCUPATION_TYPE             307507.0       3.778252       3.123767   \n",
       "CNT_FAM_MEMBERS             307507.0       2.152658       0.910677   \n",
       "...                              ...            ...            ...   \n",
       "DEF_30_CNT_SOCIAL_CIRCLE    307507.0       0.143406       0.445902   \n",
       "OBS_60_CNT_SOCIAL_CIRCLE    307507.0       1.405255       2.375790   \n",
       "DEF_60_CNT_SOCIAL_CIRCLE    307507.0       0.100034       0.361619   \n",
       "DAYS_LAST_PHONE_CHANGE      307507.0    -962.860546     826.810146   \n",
       "FLAG_DOCUMENT_2             307507.0       0.000042       0.006502   \n",
       "FLAG_DOCUMENT_3             307507.0       0.710033       0.453748   \n",
       "FLAG_DOCUMENT_4             307507.0       0.000081       0.009016   \n",
       "FLAG_DOCUMENT_5             307507.0       0.015115       0.122011   \n",
       "FLAG_DOCUMENT_6             307507.0       0.088057       0.283378   \n",
       "FLAG_DOCUMENT_7             307507.0       0.000192       0.013850   \n",
       "FLAG_DOCUMENT_8             307507.0       0.081377       0.273414   \n",
       "FLAG_DOCUMENT_9             307507.0       0.003896       0.062295   \n",
       "FLAG_DOCUMENT_10            307507.0       0.000023       0.004771   \n",
       "FLAG_DOCUMENT_11            307507.0       0.003912       0.062424   \n",
       "FLAG_DOCUMENT_12            307507.0       0.000007       0.002550   \n",
       "FLAG_DOCUMENT_13            307507.0       0.003525       0.059268   \n",
       "FLAG_DOCUMENT_14            307507.0       0.002937       0.054110   \n",
       "FLAG_DOCUMENT_15            307507.0       0.001210       0.034760   \n",
       "FLAG_DOCUMENT_16            307507.0       0.009928       0.099145   \n",
       "FLAG_DOCUMENT_17            307507.0       0.000267       0.016328   \n",
       "FLAG_DOCUMENT_18            307507.0       0.008130       0.089799   \n",
       "FLAG_DOCUMENT_19            307507.0       0.000595       0.024388   \n",
       "FLAG_DOCUMENT_20            307507.0       0.000507       0.022518   \n",
       "FLAG_DOCUMENT_21            307507.0       0.000335       0.018299   \n",
       "AMT_REQ_CREDIT_BUREAU_HOUR  307507.0       0.006403       0.077984   \n",
       "AMT_REQ_CREDIT_BUREAU_DAY   307507.0       0.007000       0.103010   \n",
       "AMT_REQ_CREDIT_BUREAU_WEEK  307507.0       0.034362       0.190367   \n",
       "AMT_REQ_CREDIT_BUREAU_MON   307507.0       0.267388       0.851914   \n",
       "AMT_REQ_CREDIT_BUREAU_QRT   307507.0       0.265474       0.738510   \n",
       "AMT_REQ_CREDIT_BUREAU_YEAR  307507.0       1.899950       1.738518   \n",
       "\n",
       "                                     min            25%            50%  \\\n",
       "SK_ID_CURR                  100002.00000  189146.500000  278203.000000   \n",
       "TARGET                           0.00000       0.000000       0.000000   \n",
       "NAME_CONTRACT_TYPE               0.00000       1.000000       1.000000   \n",
       "CODE_GENDER                      0.00000       0.000000       1.000000   \n",
       "FLAG_OWN_CAR                     0.00000       0.000000       0.000000   \n",
       "FLAG_OWN_REALTY                  0.00000       0.000000       1.000000   \n",
       "CNT_CHILDREN                     0.00000       0.000000       0.000000   \n",
       "AMT_INCOME_TOTAL             25650.00000  112500.000000  147150.000000   \n",
       "AMT_CREDIT                   45000.00000  270000.000000  513531.000000   \n",
       "AMT_ANNUITY                   1615.50000   16524.000000   24903.000000   \n",
       "AMT_GOODS_PRICE              40500.00000  238500.000000  450000.000000   \n",
       "NAME_TYPE_SUITE                  0.00000       0.000000       0.000000   \n",
       "NAME_INCOME_TYPE                 0.00000       0.000000       0.000000   \n",
       "NAME_EDUCATION_TYPE              0.00000       0.000000       0.000000   \n",
       "NAME_FAMILY_STATUS               0.00000       1.000000       1.000000   \n",
       "NAME_HOUSING_TYPE                0.00000       0.000000       0.000000   \n",
       "REGION_POPULATION_RELATIVE       0.00029       0.010006       0.018850   \n",
       "DAYS_BIRTH                  -25229.00000  -19682.000000  -15750.000000   \n",
       "DAYS_EMPLOYED               -17912.00000   -2760.000000   -1213.000000   \n",
       "DAYS_REGISTRATION           -24672.00000   -7479.500000   -4504.000000   \n",
       "DAYS_ID_PUBLISH              -7197.00000   -4299.000000   -3254.000000   \n",
       "OWN_CAR_AGE                      0.00000      12.061121      12.061121   \n",
       "FLAG_MOBIL                       0.00000       1.000000       1.000000   \n",
       "FLAG_EMP_PHONE                   0.00000       1.000000       1.000000   \n",
       "FLAG_WORK_PHONE                  0.00000       0.000000       0.000000   \n",
       "FLAG_CONT_MOBILE                 0.00000       1.000000       1.000000   \n",
       "FLAG_PHONE                       0.00000       0.000000       0.000000   \n",
       "FLAG_EMAIL                       0.00000       0.000000       0.000000   \n",
       "OCCUPATION_TYPE                  0.00000       1.000000       3.778252   \n",
       "CNT_FAM_MEMBERS                  1.00000       2.000000       2.000000   \n",
       "...                                  ...            ...            ...   \n",
       "DEF_30_CNT_SOCIAL_CIRCLE         0.00000       0.000000       0.000000   \n",
       "OBS_60_CNT_SOCIAL_CIRCLE         0.00000       0.000000       0.000000   \n",
       "DEF_60_CNT_SOCIAL_CIRCLE         0.00000       0.000000       0.000000   \n",
       "DAYS_LAST_PHONE_CHANGE       -4292.00000   -1570.000000    -757.000000   \n",
       "FLAG_DOCUMENT_2                  0.00000       0.000000       0.000000   \n",
       "FLAG_DOCUMENT_3                  0.00000       0.000000       1.000000   \n",
       "FLAG_DOCUMENT_4                  0.00000       0.000000       0.000000   \n",
       "FLAG_DOCUMENT_5                  0.00000       0.000000       0.000000   \n",
       "FLAG_DOCUMENT_6                  0.00000       0.000000       0.000000   \n",
       "FLAG_DOCUMENT_7                  0.00000       0.000000       0.000000   \n",
       "FLAG_DOCUMENT_8                  0.00000       0.000000       0.000000   \n",
       "FLAG_DOCUMENT_9                  0.00000       0.000000       0.000000   \n",
       "FLAG_DOCUMENT_10                 0.00000       0.000000       0.000000   \n",
       "FLAG_DOCUMENT_11                 0.00000       0.000000       0.000000   \n",
       "FLAG_DOCUMENT_12                 0.00000       0.000000       0.000000   \n",
       "FLAG_DOCUMENT_13                 0.00000       0.000000       0.000000   \n",
       "FLAG_DOCUMENT_14                 0.00000       0.000000       0.000000   \n",
       "FLAG_DOCUMENT_15                 0.00000       0.000000       0.000000   \n",
       "FLAG_DOCUMENT_16                 0.00000       0.000000       0.000000   \n",
       "FLAG_DOCUMENT_17                 0.00000       0.000000       0.000000   \n",
       "FLAG_DOCUMENT_18                 0.00000       0.000000       0.000000   \n",
       "FLAG_DOCUMENT_19                 0.00000       0.000000       0.000000   \n",
       "FLAG_DOCUMENT_20                 0.00000       0.000000       0.000000   \n",
       "FLAG_DOCUMENT_21                 0.00000       0.000000       0.000000   \n",
       "AMT_REQ_CREDIT_BUREAU_HOUR       0.00000       0.000000       0.000000   \n",
       "AMT_REQ_CREDIT_BUREAU_DAY        0.00000       0.000000       0.000000   \n",
       "AMT_REQ_CREDIT_BUREAU_WEEK       0.00000       0.000000       0.000000   \n",
       "AMT_REQ_CREDIT_BUREAU_MON        0.00000       0.000000       0.000000   \n",
       "AMT_REQ_CREDIT_BUREAU_QRT        0.00000       0.000000       0.000000   \n",
       "AMT_REQ_CREDIT_BUREAU_YEAR       0.00000       1.000000       1.899950   \n",
       "\n",
       "                                      75%           max  \n",
       "SK_ID_CURR                  367143.500000  4.562550e+05  \n",
       "TARGET                           0.000000  1.000000e+00  \n",
       "NAME_CONTRACT_TYPE               1.000000  1.000000e+00  \n",
       "CODE_GENDER                      1.000000  1.000000e+00  \n",
       "FLAG_OWN_CAR                     1.000000  1.000000e+00  \n",
       "FLAG_OWN_REALTY                  1.000000  1.000000e+00  \n",
       "CNT_CHILDREN                     1.000000  1.900000e+01  \n",
       "AMT_INCOME_TOTAL            202500.000000  1.170000e+08  \n",
       "AMT_CREDIT                  808650.000000  4.050000e+06  \n",
       "AMT_ANNUITY                  34596.000000  2.580255e+05  \n",
       "AMT_GOODS_PRICE             679500.000000  4.050000e+06  \n",
       "NAME_TYPE_SUITE                  0.000000  6.000000e+00  \n",
       "NAME_INCOME_TYPE                 2.000000  7.000000e+00  \n",
       "NAME_EDUCATION_TYPE              1.000000  4.000000e+00  \n",
       "NAME_FAMILY_STATUS               1.000000  5.000000e+00  \n",
       "NAME_HOUSING_TYPE                0.000000  5.000000e+00  \n",
       "REGION_POPULATION_RELATIVE       0.028663  7.250800e-02  \n",
       "DAYS_BIRTH                  -12413.000000 -7.489000e+03  \n",
       "DAYS_EMPLOYED                 -289.000000  3.652430e+05  \n",
       "DAYS_REGISTRATION            -2010.000000  0.000000e+00  \n",
       "DAYS_ID_PUBLISH              -1720.000000  0.000000e+00  \n",
       "OWN_CAR_AGE                     12.061121  9.100000e+01  \n",
       "FLAG_MOBIL                       1.000000  1.000000e+00  \n",
       "FLAG_EMP_PHONE                   1.000000  1.000000e+00  \n",
       "FLAG_WORK_PHONE                  0.000000  1.000000e+00  \n",
       "FLAG_CONT_MOBILE                 1.000000  1.000000e+00  \n",
       "FLAG_PHONE                       1.000000  1.000000e+00  \n",
       "FLAG_EMAIL                       0.000000  1.000000e+00  \n",
       "OCCUPATION_TYPE                  5.000000  1.700000e+01  \n",
       "CNT_FAM_MEMBERS                  3.000000  2.000000e+01  \n",
       "...                                   ...           ...  \n",
       "DEF_30_CNT_SOCIAL_CIRCLE         0.000000  3.400000e+01  \n",
       "OBS_60_CNT_SOCIAL_CIRCLE         2.000000  3.440000e+02  \n",
       "DEF_60_CNT_SOCIAL_CIRCLE         0.000000  2.400000e+01  \n",
       "DAYS_LAST_PHONE_CHANGE        -274.000000  0.000000e+00  \n",
       "FLAG_DOCUMENT_2                  0.000000  1.000000e+00  \n",
       "FLAG_DOCUMENT_3                  1.000000  1.000000e+00  \n",
       "FLAG_DOCUMENT_4                  0.000000  1.000000e+00  \n",
       "FLAG_DOCUMENT_5                  0.000000  1.000000e+00  \n",
       "FLAG_DOCUMENT_6                  0.000000  1.000000e+00  \n",
       "FLAG_DOCUMENT_7                  0.000000  1.000000e+00  \n",
       "FLAG_DOCUMENT_8                  0.000000  1.000000e+00  \n",
       "FLAG_DOCUMENT_9                  0.000000  1.000000e+00  \n",
       "FLAG_DOCUMENT_10                 0.000000  1.000000e+00  \n",
       "FLAG_DOCUMENT_11                 0.000000  1.000000e+00  \n",
       "FLAG_DOCUMENT_12                 0.000000  1.000000e+00  \n",
       "FLAG_DOCUMENT_13                 0.000000  1.000000e+00  \n",
       "FLAG_DOCUMENT_14                 0.000000  1.000000e+00  \n",
       "FLAG_DOCUMENT_15                 0.000000  1.000000e+00  \n",
       "FLAG_DOCUMENT_16                 0.000000  1.000000e+00  \n",
       "FLAG_DOCUMENT_17                 0.000000  1.000000e+00  \n",
       "FLAG_DOCUMENT_18                 0.000000  1.000000e+00  \n",
       "FLAG_DOCUMENT_19                 0.000000  1.000000e+00  \n",
       "FLAG_DOCUMENT_20                 0.000000  1.000000e+00  \n",
       "FLAG_DOCUMENT_21                 0.000000  1.000000e+00  \n",
       "AMT_REQ_CREDIT_BUREAU_HOUR       0.000000  4.000000e+00  \n",
       "AMT_REQ_CREDIT_BUREAU_DAY        0.000000  9.000000e+00  \n",
       "AMT_REQ_CREDIT_BUREAU_WEEK       0.000000  8.000000e+00  \n",
       "AMT_REQ_CREDIT_BUREAU_MON        0.267388  2.700000e+01  \n",
       "AMT_REQ_CREDIT_BUREAU_QRT        0.265474  2.610000e+02  \n",
       "AMT_REQ_CREDIT_BUREAU_YEAR       3.000000  2.500000e+01  \n",
       "\n",
       "[122 rows x 8 columns]"
      ]
     },
     "execution_count": 17,
     "metadata": {},
     "output_type": "execute_result"
    }
   ],
   "source": [
    "Train.describe().T"
   ]
  },
  {
   "cell_type": "markdown",
   "metadata": {},
   "source": [
    "# Classification\n",
    "\n",
    "\n",
    "#### Split Train dataset for training process (The X_test, y_test is like a validation step in the whole process.)"
   ]
  },
  {
   "cell_type": "code",
   "execution_count": 18,
   "metadata": {},
   "outputs": [],
   "source": [
    "X=Train.drop('TARGET',axis=1)\n",
    "y=Train['TARGET']\n",
    "X_train, X_test, y_train, y_test = train_test_split(X, y, test_size = 0.3,random_state=0)"
   ]
  },
  {
   "cell_type": "markdown",
   "metadata": {},
   "source": [
    "## 1. Logistic Regression"
   ]
  },
  {
   "cell_type": "code",
   "execution_count": 19,
   "metadata": {},
   "outputs": [
    {
     "name": "stdout",
     "output_type": "stream",
     "text": [
      "Correct accuracy with Logistic Regression is: 91.9428 %\n"
     ]
    }
   ],
   "source": [
    "LogReg= LogisticRegression()\n",
    "# Fit the model on the trainng data.\n",
    "LogReg.fit(X_train, y_train)\n",
    "# Print the accuracy from the testing data.\n",
    "print('Correct accuracy with Logistic Regression is:', round(LogReg.score(X_test,y_test)*100,4),'%')\n",
    "#metrics.accuracy_score(y_test, y_pred)\n",
    "y_pred_prob=LogReg.predict_proba(X_test)[:, 1]\n",
    "y_pred= LogReg.predict(X_test)\n"
   ]
  },
  {
   "cell_type": "markdown",
   "metadata": {},
   "source": [
    "### 10-F Cross Validation"
   ]
  },
  {
   "cell_type": "markdown",
   "metadata": {},
   "source": [
    "- Classification accuracy is the **easiest classification metric to understand**\n",
    "- But, it does not tell you the **underlying distribution** of response values\n",
    "- And, it does not tell you what **\"types\" of errors** your classifier is making"
   ]
  },
  {
   "cell_type": "markdown",
   "metadata": {},
   "source": [
    "### Confusion matrix\n",
    "\n",
    "Table that describes the performance of a classification model"
   ]
  },
  {
   "cell_type": "code",
   "execution_count": 20,
   "metadata": {},
   "outputs": [
    {
     "name": "stdout",
     "output_type": "stream",
     "text": [
      "[[84820     0]\n",
      " [ 7433     0]]\n"
     ]
    }
   ],
   "source": [
    "print(metrics.confusion_matrix(y_test, y_pred))"
   ]
  },
  {
   "cell_type": "markdown",
   "metadata": {},
   "source": [
    "- Every observation in the testing set is represented in **exactly one box**\n",
    "- It's a 2x2 matrix because there are **2 response classes**\n",
    "- The format shown here is **not** universal\n",
    "\n",
    "\n",
    "**Basic terminology**\n",
    "\n",
    "- **True Positives (TP):** we *correctly* predicted that they *do* have diabetes\n",
    "- **True Negatives (TN):** we *correctly* predicted that they *don't* have diabetes\n",
    "- **False Positives (FP):** we *incorrectly* predicted that they *do* have diabetes (a \"Type I error\")\n",
    "- **False Negatives (FN):** we *incorrectly* predicted that they *don't* have diabetes (a \"Type II error\")"
   ]
  },
  {
   "cell_type": "code",
   "execution_count": 21,
   "metadata": {},
   "outputs": [],
   "source": [
    "# save confusion matrix and slice into four pieces\n",
    "confusion = metrics.confusion_matrix(y_test, y_pred)\n",
    "TP = confusion[1, 1]\n",
    "TN = confusion[0, 0]\n",
    "FP = confusion[0, 1]\n",
    "FN = confusion[1, 0]"
   ]
  },
  {
   "cell_type": "markdown",
   "metadata": {},
   "source": [
    "### Metrics computed from a confusion matrix\n",
    "\n",
    "**Classification Accuracy:** Overall, how often is the classifier correct?"
   ]
  },
  {
   "cell_type": "code",
   "execution_count": 22,
   "metadata": {},
   "outputs": [
    {
     "name": "stdout",
     "output_type": "stream",
     "text": [
      "0.9194280944793123\n",
      "0.9194280944793123\n"
     ]
    }
   ],
   "source": [
    "print((TP + TN) / float(TP + TN + FP + FN))\n",
    "print(metrics.accuracy_score(y_test, y_pred))"
   ]
  },
  {
   "cell_type": "markdown",
   "metadata": {},
   "source": [
    "**Classification Error:** Overall, how often is the classifier incorrect?\n",
    "\n",
    "- Also known as \"Misclassification Rate\""
   ]
  },
  {
   "cell_type": "code",
   "execution_count": 23,
   "metadata": {},
   "outputs": [
    {
     "name": "stdout",
     "output_type": "stream",
     "text": [
      "0.08057190552068767\n",
      "0.08057190552068771\n"
     ]
    }
   ],
   "source": [
    "print((FP + FN) / float(TP + TN + FP + FN))\n",
    "print(1 - metrics.accuracy_score(y_test, y_pred))"
   ]
  },
  {
   "cell_type": "markdown",
   "metadata": {},
   "source": [
    "**Sensitivity:** When the actual value is positive, how often is the prediction correct?\n",
    "\n",
    "- How \"sensitive\" is the classifier to detecting positive instances?\n",
    "- Also known as \"True Positive Rate\" or \"Recall\""
   ]
  },
  {
   "cell_type": "code",
   "execution_count": 24,
   "metadata": {},
   "outputs": [
    {
     "name": "stdout",
     "output_type": "stream",
     "text": [
      "0.0\n",
      "0.0\n"
     ]
    }
   ],
   "source": [
    "print(TP / float(TP + FN))\n",
    "print(metrics.recall_score(y_test, y_pred))"
   ]
  },
  {
   "cell_type": "markdown",
   "metadata": {},
   "source": [
    "**Specificity:** When the actual value is negative, how often is the prediction correct?\n",
    "\n",
    "- How \"specific\" (or \"selective\") is the classifier in predicting positive instances?"
   ]
  },
  {
   "cell_type": "code",
   "execution_count": 25,
   "metadata": {},
   "outputs": [
    {
     "name": "stdout",
     "output_type": "stream",
     "text": [
      "1.0\n"
     ]
    }
   ],
   "source": [
    "print(TN / float(TN + FP))"
   ]
  },
  {
   "cell_type": "markdown",
   "metadata": {},
   "source": [
    "**False Positive Rate:** When the actual value is negative, how often is the prediction incorrect?"
   ]
  },
  {
   "cell_type": "code",
   "execution_count": 26,
   "metadata": {},
   "outputs": [
    {
     "name": "stdout",
     "output_type": "stream",
     "text": [
      "0.0\n"
     ]
    }
   ],
   "source": [
    "print(FP / float(TN + FP))"
   ]
  },
  {
   "cell_type": "markdown",
   "metadata": {},
   "source": [
    "**Precision:** When a positive value is predicted, how often is the prediction correct?\n",
    "\n",
    "- How \"precise\" is the classifier when predicting positive instances?"
   ]
  },
  {
   "cell_type": "code",
   "execution_count": 27,
   "metadata": {},
   "outputs": [
    {
     "name": "stdout",
     "output_type": "stream",
     "text": [
      "nan\n",
      "0.0\n"
     ]
    },
    {
     "name": "stderr",
     "output_type": "stream",
     "text": [
      "C:\\Python\\Anaconda3\\lib\\site-packages\\ipykernel_launcher.py:1: RuntimeWarning: invalid value encountered in true_divide\n",
      "  \"\"\"Entry point for launching an IPython kernel.\n",
      "C:\\Python\\Anaconda3\\lib\\site-packages\\sklearn\\metrics\\classification.py:1135: UndefinedMetricWarning: Precision is ill-defined and being set to 0.0 due to no predicted samples.\n",
      "  'precision', 'predicted', average, warn_for)\n"
     ]
    }
   ],
   "source": [
    "print(TP / np.float(TP + FP))\n",
    "print(metrics.precision_score(y_test, y_pred))"
   ]
  },
  {
   "cell_type": "markdown",
   "metadata": {},
   "source": [
    "\n",
    "- Confusion matrix gives you a **more complete picture** of how your classifier is performing\n",
    "- Also allows you to compute various **classification metrics**, and these metrics can guide your model selection\n",
    "\n",
    "**Which metrics should you focus on?**\n",
    "\n",
    "- Choice of metric depends on your **business objective**\n",
    "- **Spam filter** (positive class is \"spam\"): Optimize for **precision or specificity** because false negatives (spam goes to the inbox) are more acceptable than false positives (non-spam is caught by the spam filter)\n",
    "- **Fraudulent transaction detector** (positive class is \"fraud\"): Optimize for **sensitivity** because false positives (normal transactions that are flagged as possible fraud) are more acceptable than false negatives (fraudulent transactions that are not detected)"
   ]
  },
  {
   "cell_type": "code",
   "execution_count": 28,
   "metadata": {},
   "outputs": [
    {
     "data": {
      "image/png": "[encoded data removed]",
      "text/plain": [
       "<Figure size 432x288 with 1 Axes>"
      ]
     },
     "metadata": {},
     "output_type": "display_data"
    }
   ],
   "source": [
    "# histogram of predicted probabilities\n",
    "plt.hist(y_pred_prob, bins=8)\n",
    "plt.xlim(0, 1)\n",
    "plt.title('Histogram of predicted probabilities')\n",
    "plt.xlabel('Predicted probability')\n",
    "plt.ylabel('Frequency')\n",
    "plt.show()"
   ]
  },
  {
   "cell_type": "code",
   "execution_count": 29,
   "metadata": {},
   "outputs": [
    {
     "name": "stdout",
     "output_type": "stream",
     "text": [
      "[[61269 23551]\n",
      " [ 4117  3316]]\n"
     ]
    }
   ],
   "source": [
    "# predict diabetes if the predicted probability is greater than 0.1\n",
    "from sklearn.preprocessing import binarize\n",
    "y_pred= binarize([y_pred_prob], 0.1)[0]\n",
    "\n",
    "# new confusion matrix (threshold of 0.1)\n",
    "print(metrics.confusion_matrix(y_test, y_pred))"
   ]
  },
  {
   "cell_type": "code",
   "execution_count": 30,
   "metadata": {},
   "outputs": [
    {
     "name": "stdout",
     "output_type": "stream",
     "text": [
      "0.35309037511680685\n"
     ]
    }
   ],
   "source": [
    "# sensitivity has increased (used to be 0)\n",
    "print(2645 / (2645+4846))"
   ]
  },
  {
   "cell_type": "code",
   "execution_count": 31,
   "metadata": {},
   "outputs": [
    {
     "name": "stdout",
     "output_type": "stream",
     "text": [
      "0.7795886919931251\n"
     ]
    }
   ],
   "source": [
    "# specificity has decreased (used to be 1)\n",
    "print(65770 / (65770+18595))"
   ]
  },
  {
   "cell_type": "markdown",
   "metadata": {},
   "source": [
    "**Conclusion:**\n",
    "\n",
    "- **Threshold of 0.5** is used by default (for binary problems) to convert predicted probabilities into class predictions\n",
    "- Threshold can be **adjusted** to increase sensitivity or specificity\n",
    "- Sensitivity and specificity have an **inverse relationship**"
   ]
  },
  {
   "cell_type": "markdown",
   "metadata": {},
   "source": [
    "### Compute ROC Curve  and Area Under the Curve (AUC)"
   ]
  },
  {
   "cell_type": "code",
   "execution_count": 32,
   "metadata": {},
   "outputs": [
    {
     "data": {
      "image/png": "[encoded data removed]",
      "text/plain": [
       "<Figure size 432x288 with 1 Axes>"
      ]
     },
     "metadata": {},
     "output_type": "display_data"
    }
   ],
   "source": [
    "fpr, tpr, thresholds=roc_curve(y_test, y_pred_prob)\n",
    "roc_auc = auc(fpr, tpr)\n",
    "\n",
    "\n",
    "plt.figure()\n",
    "lw = 2\n",
    "plt.plot(fpr, tpr, color='darkorange',lw=lw, label='ROC curve for Logistic Regression (area = %0.2f)' % roc_auc)\n",
    "plt.plot([0, 1], [0, 1],lw=lw, color='navy', linestyle='--')\n",
    "plt.xlim([0.0, 1.0])\n",
    "plt.ylim([0.0, 1.05])\n",
    "plt.xlabel('False Positive Rate (1 - Specificity)')\n",
    "plt.ylabel('True Positive Rate (Sensitivity)')\n",
    "plt.title('Receiver operating characteristic example')\n",
    "plt.legend(loc=\"lower right\")\n",
    "plt.grid(True)\n",
    "plt.show()"
   ]
  },
  {
   "cell_type": "markdown",
   "metadata": {},
   "source": [
    "- ROC curve can help you to **choose a threshold** that balances sensitivity and specificity in a way that makes sense for your particular context\n",
    "- You can't actually **see the thresholds** used to generate the curve on the ROC curve itself"
   ]
  },
  {
   "cell_type": "code",
   "execution_count": 33,
   "metadata": {},
   "outputs": [],
   "source": [
    "# define a function that accepts a threshold and prints sensitivity and specificity\n",
    "def evaluate_threshold(threshold):\n",
    "    print('Sensitivity:', tpr[thresholds > threshold][-1])\n",
    "    print('Specificity:', 1 - fpr[thresholds > threshold][-1])"
   ]
  },
  {
   "cell_type": "code",
   "execution_count": 34,
   "metadata": {},
   "outputs": [
    {
     "name": "stdout",
     "output_type": "stream",
     "text": [
      "Sensitivity: 0.4461186600295977\n",
      "Specificity: 0.7223650082527706\n"
     ]
    }
   ],
   "source": [
    "evaluate_threshold(0.1)"
   ]
  },
  {
   "cell_type": "markdown",
   "metadata": {},
   "source": [
    "AUC is the **percentage** of the ROC plot that is **underneath the curve**:"
   ]
  },
  {
   "cell_type": "code",
   "execution_count": 35,
   "metadata": {},
   "outputs": [
    {
     "name": "stdout",
     "output_type": "stream",
     "text": [
      "0.584230044468937\n"
     ]
    }
   ],
   "source": [
    "# IMPORTANT: first argument is true values, second argument is predicted probabilities\n",
    "print(metrics.roc_auc_score(y_test, y_pred))"
   ]
  },
  {
   "cell_type": "code",
   "execution_count": 36,
   "metadata": {},
   "outputs": [
    {
     "name": "stdout",
     "output_type": "stream",
     "text": [
      "Logistic Regression cross-validated AUC is 0.6244904484897589\n"
     ]
    }
   ],
   "source": [
    "# calculate cross-validated AUC\n",
    "from sklearn.model_selection import cross_val_score\n",
    "print('Logistic Regression cross-validated AUC is',cross_val_score(LogReg, X, y, cv=10, scoring='roc_auc').mean())"
   ]
  },
  {
   "cell_type": "markdown",
   "metadata": {},
   "source": [
    "- AUC is useful as a **single number summary** of classifier performance.\n",
    "- If you randomly chose one positive and one negative observation, AUC represents the likelihood that your classifier will assign a **higher predicted probability** to the positive observation.\n",
    "- AUC is useful even when there is **high class imbalance** (unlike classification accuracy)."
   ]
  },
  {
   "cell_type": "markdown",
   "metadata": {},
   "source": [
    "## 2. Random Forest"
   ]
  },
  {
   "cell_type": "code",
   "execution_count": 37,
   "metadata": {},
   "outputs": [
    {
     "name": "stdout",
     "output_type": "stream",
     "text": [
      "Correct accuracy with Random Forest Classifier is: 91.8745 %\n",
      "Confustion Matrics:\n",
      "[[84666   154]\n",
      " [ 7342    91]]\n",
      "0.012242701466433472\n",
      "Recall (Sensetivity): None\n",
      "Precission: 0.37142857142857144\n"
     ]
    }
   ],
   "source": [
    "RF= RandomForestClassifier()\n",
    "RF.fit(X_train, y_train)\n",
    "print('Correct accuracy with Random Forest Classifier is:', round(RF.score(X_test,y_test)*100,4),'%')\n",
    "y_pred_prob=RF.predict_proba(X_test)[:, 1]\n",
    "y_pred= RF.predict(X_test)\n",
    "\n",
    "\n",
    "print('Confustion Matrics:')\n",
    "print(metrics.confusion_matrix(y_test, y_pred))\n",
    "\n",
    "print('Recall (Sensetivity):',print(metrics.recall_score(y_test, y_pred)))\n",
    "print('Precission:',metrics.precision_score(y_test, y_pred))"
   ]
  },
  {
   "cell_type": "code",
   "execution_count": 38,
   "metadata": {},
   "outputs": [
    {
     "data": {
      "image/png": "[encoded data removed]",
      "text/plain": [
       "<Figure size 432x288 with 1 Axes>"
      ]
     },
     "metadata": {},
     "output_type": "display_data"
    }
   ],
   "source": [
    "# histogram of predicted probabilities\n",
    "plt.hist(y_pred_prob, bins=8)\n",
    "plt.xlim(0, 1)\n",
    "plt.title('Histogram of predicted probabilities')\n",
    "plt.xlabel('Predicted probability')\n",
    "plt.ylabel('Frequency')\n",
    "plt.show()"
   ]
  },
  {
   "cell_type": "markdown",
   "metadata": {},
   "source": [
    "### Compute ROC Curve "
   ]
  },
  {
   "cell_type": "code",
   "execution_count": 39,
   "metadata": {},
   "outputs": [
    {
     "data": {
      "image/png": "[encoded data removed]",
      "text/plain": [
       "<Figure size 432x288 with 1 Axes>"
      ]
     },
     "metadata": {},
     "output_type": "display_data"
    }
   ],
   "source": [
    "fpr, tpr, thresholds=roc_curve(y_test, y_pred_prob)\n",
    "roc_auc = auc(fpr, tpr)\n",
    "\n",
    "\n",
    "plt.figure()\n",
    "lw = 2\n",
    "plt.plot(fpr, tpr, color='darkorange',lw=lw, label='ROC curve for Random Forest (area = %0.2f)' % roc_auc)\n",
    "plt.plot([0, 1], [0, 1],lw=lw, color='navy', linestyle='--')\n",
    "plt.xlim([0.0, 1.0])\n",
    "plt.ylim([0.0, 1.05])\n",
    "plt.xlabel('False Positive Rate (1 - Specificity)')\n",
    "plt.ylabel('True Positive Rate (Sensitivity)')\n",
    "plt.title('Receiver operating characteristic example')\n",
    "plt.legend(loc=\"lower right\")\n",
    "plt.grid(True)\n",
    "plt.show()"
   ]
  },
  {
   "cell_type": "code",
   "execution_count": 40,
   "metadata": {},
   "outputs": [
    {
     "name": "stdout",
     "output_type": "stream",
     "text": [
      "Random Forest cross-validation AUC is 0.6359360949325942\n"
     ]
    }
   ],
   "source": [
    "# calculate cross-validated AUC\n",
    "from sklearn.model_selection import cross_val_score\n",
    "print('Random Forest cross-validation AUC is',cross_val_score(RF, X, y, cv=10, scoring='roc_auc').mean())"
   ]
  },
  {
   "cell_type": "markdown",
   "metadata": {},
   "source": [
    "### Feature importance with Random Forest"
   ]
  },
  {
   "cell_type": "code",
   "execution_count": 42,
   "metadata": {},
   "outputs": [
    {
     "name": "stdout",
     "output_type": "stream",
     "text": [
      "[59.27451183  3.20479428  9.10583627  6.84327335  8.97424628 12.68604354\n",
      " 46.5348335  53.12573971 56.75503182 44.85387772 14.1938168  10.94300447\n",
      " 12.22258993 18.46482996 10.90569198 46.26284405 65.59065454 56.24815873\n",
      " 61.234192   63.62188268]\n",
      "\n",
      "[105 100  21  97 103 110 114 108 106 113 107  95 112 104  24 102 109 111\n",
      "  33  98]\n"
     ]
    }
   ],
   "source": [
    "feature_importance =RF.feature_importances_\n",
    "#make importances relative to max importance\n",
    "FeaturesImp=100.0 * (feature_importance / feature_importance.max())\n",
    "print(FeaturesImp[0:20])\n",
    "print('')\n",
    "print(np.argsort(FeaturesImp)[0:20])"
   ]
  },
  {
   "cell_type": "markdown",
   "metadata": {},
   "source": [
    "#### Check Random Forest with 10 most important features\n"
   ]
  },
  {
   "cell_type": "code",
   "execution_count": 43,
   "metadata": {},
   "outputs": [
    {
     "name": "stdout",
     "output_type": "stream",
     "text": [
      "Correct accuracy with Random Forest Classifier is: 89.415 %\n",
      "Confustion Matrics:\n",
      "[[82223  2597]\n",
      " [ 7168   265]]\n",
      "0.03565182295170187\n",
      "Recall (Sensetivity): None\n",
      "Precission: 0.09259259259259259\n"
     ]
    }
   ],
   "source": [
    "X=Train.iloc[:,np.argsort(FeaturesImp)[0:20]]\n",
    "X_train, X_test, y_train, y_test = train_test_split(X, y, test_size = 0.3,random_state=0)\n",
    "\n",
    "RF= RandomForestClassifier()\n",
    "RF.fit(X_train, y_train)\n",
    "print('Correct accuracy with Random Forest Classifier is:', round(RF.score(X_test,y_test)*100,4),'%')\n",
    "y_pred_prob=RF.predict_proba(X_test)[:, 1]\n",
    "y_pred= RF.predict(X_test)\n",
    "\n",
    "\n",
    "print('Confustion Matrics:')\n",
    "print(metrics.confusion_matrix(y_test, y_pred))\n",
    "\n",
    "print('Recall (Sensetivity):',print(metrics.recall_score(y_test, y_pred)))\n",
    "print('Precission:',metrics.precision_score(y_test, y_pred))"
   ]
  },
  {
   "cell_type": "markdown",
   "metadata": {},
   "source": [
    "## 3. Gradient Boosting Classifier"
   ]
  },
  {
   "cell_type": "code",
   "execution_count": 44,
   "metadata": {},
   "outputs": [
    {
     "name": "stdout",
     "output_type": "stream",
     "text": [
      "Correct accuracy with Gradient Boosting Classifier is: 91.9526 %\n",
      "Confustion Matrics:\n",
      "[[84734    86]\n",
      " [ 7338    95]]\n",
      "0.012780842190232745\n",
      "Recall (Sensetivity): None\n",
      "Precission: 0.5248618784530387\n"
     ]
    }
   ],
   "source": [
    "X=Train.drop('TARGET',axis=1)\n",
    "y=Train['TARGET']\n",
    "X_train, X_test, y_train, y_test = train_test_split(X, y, test_size = 0.3,random_state=0)\n",
    "\n",
    "GB = GradientBoostingClassifier()\n",
    "GB.fit(X_train, y_train)\n",
    "print('Correct accuracy with Gradient Boosting Classifier is:', round(GB.score(X_test,y_test)*100,4),'%')\n",
    "\n",
    "y_pred_prob=GB.predict_proba(X_test)[:, 1]\n",
    "y_pred= GB.predict(X_test)\n",
    "\n",
    "\n",
    "print('Confustion Matrics:')\n",
    "print(metrics.confusion_matrix(y_test, y_pred))\n",
    "\n",
    "print('Recall (Sensetivity):',print(metrics.recall_score(y_test, y_pred)))\n",
    "print('Precission:',metrics.precision_score(y_test, y_pred))"
   ]
  },
  {
   "cell_type": "code",
   "execution_count": 45,
   "metadata": {},
   "outputs": [
    {
     "data": {
      "image/png": "[encoded data removed]",
      "text/plain": [
       "<Figure size 432x288 with 1 Axes>"
      ]
     },
     "metadata": {},
     "output_type": "display_data"
    }
   ],
   "source": [
    "# histogram of predicted probabilities\n",
    "plt.hist(y_pred_prob, bins=8)\n",
    "plt.xlim(0, 1)\n",
    "plt.title('Histogram of predicted probabilities')\n",
    "plt.xlabel('Predicted probability')\n",
    "plt.ylabel('Frequency')\n",
    "plt.show()"
   ]
  },
  {
   "cell_type": "markdown",
   "metadata": {},
   "source": [
    "### Compute ROC Curve "
   ]
  },
  {
   "cell_type": "code",
   "execution_count": 46,
   "metadata": {},
   "outputs": [
    {
     "data": {
      "image/png": "[encoded data removed]",
      "text/plain": [
       "<Figure size 432x288 with 1 Axes>"
      ]
     },
     "metadata": {},
     "output_type": "display_data"
    }
   ],
   "source": [
    "fpr, tpr, thresholds=roc_curve(y_test, y_pred_prob)\n",
    "roc_auc = auc(fpr, tpr)\n",
    "\n",
    "\n",
    "plt.figure()\n",
    "lw = 2\n",
    "plt.plot(fpr, tpr, color='darkorange',lw=lw, label='ROC curve for Gradient Boosting (area = %0.2f)' % roc_auc)\n",
    "plt.plot([0, 1], [0, 1],lw=lw, color='navy', linestyle='--')\n",
    "plt.xlim([0.0, 1.0])\n",
    "plt.ylim([0.0, 1.05])\n",
    "plt.xlabel('False Positive Rate (1 - Specificity)')\n",
    "plt.ylabel('True Positive Rate (Sensitivity)')\n",
    "plt.title('Receiver operating characteristic example')\n",
    "plt.legend(loc=\"lower right\")\n",
    "plt.grid(True)\n",
    "plt.show()"
   ]
  },
  {
   "cell_type": "code",
   "execution_count": 48,
   "metadata": {},
   "outputs": [],
   "source": [
    "# calculate cross-validated AUC\n",
    "#print('GB cross-validation AUC is',cross_val_score(GB, X, y, cv=10, scoring='roc_auc').mean())"
   ]
  },
  {
   "cell_type": "markdown",
   "metadata": {},
   "source": [
    "#### Feature Importance with GB"
   ]
  },
  {
   "cell_type": "code",
   "execution_count": 49,
   "metadata": {},
   "outputs": [
    {
     "name": "stdout",
     "output_type": "stream",
     "text": [
      "[ 6.5672122   7.71099041 21.10637167 10.75268535  0.          0.40875542\n",
      "  3.3665665  29.36508549 23.32150214 46.52132905  1.58448745  9.13142533\n",
      " 20.68004651 13.88735256  0.          3.38868133 54.63988626 28.73894163\n",
      " 10.08501569 19.15672008]\n",
      "\n",
      "[ 4 14  5 10  6 15  0  1 11 18  3 13 19 12  2  8 17  7  9 16]\n"
     ]
    }
   ],
   "source": [
    "feature_importance =GB.feature_importances_\n",
    "#make importances relative to max importance\n",
    "FeaturesImp=100.0 * (feature_importance / feature_importance.max())\n",
    "print(FeaturesImp[:20])\n",
    "print('')\n",
    "print(np.argsort(FeaturesImp[:20]))"
   ]
  },
  {
   "cell_type": "markdown",
   "metadata": {},
   "source": [
    "## 4. Adaboost Classifier"
   ]
  },
  {
   "cell_type": "code",
   "execution_count": 50,
   "metadata": {},
   "outputs": [
    {
     "name": "stdout",
     "output_type": "stream",
     "text": [
      "Correct accuracy with AdaBoost Classifier is: 91.9417 %\n"
     ]
    },
    {
     "data": {
      "image/png": "[encoded data removed]",
      "text/plain": [
       "<Figure size 432x288 with 1 Axes>"
      ]
     },
     "metadata": {},
     "output_type": "display_data"
    }
   ],
   "source": [
    "X=Train.drop('TARGET',axis=1)\n",
    "y=Train['TARGET']\n",
    "X_train, X_test, y_train, y_test = train_test_split(X, y, test_size = 0.3,random_state=0)\n",
    "AB= AdaBoostClassifier()\n",
    "\n",
    "AB.fit(X_train, y_train)\n",
    "print('Correct accuracy with AdaBoost Classifier is:', round(AB.score(X_test,y_test)*100,4),'%')\n",
    "\n",
    "y_pred_prob=AB.predict_proba(X_test)[:, 1]\n",
    "y_pred= AB.predict(X_test)\n",
    "\n",
    "fpr, tpr, thresholds=roc_curve(y_test, y_pred_prob)\n",
    "roc_auc = auc(fpr, tpr)\n",
    "\n",
    "\n",
    "plt.figure()\n",
    "lw = 2\n",
    "plt.plot(fpr, tpr, color='darkorange',lw=lw, label='ROC curve for AdaBoost (area = %0.2f)' % roc_auc)\n",
    "plt.plot([0, 1], [0, 1],lw=lw, color='navy', linestyle='--')\n",
    "plt.xlim([0.0, 1.0])\n",
    "plt.ylim([0.0, 1.05])\n",
    "plt.xlabel('False Positive Rate (1 - Specificity)')\n",
    "plt.ylabel('True Positive Rate (Sensitivity)')\n",
    "plt.title('Receiver operating characteristic example')\n",
    "plt.legend(loc=\"lower right\")\n",
    "plt.grid(True)\n",
    "plt.show()"
   ]
  },
  {
   "cell_type": "code",
   "execution_count": null,
   "metadata": {},
   "outputs": [],
   "source": [
    "# calculate cross-validated AUC\n",
    "#print('Adaboost cross-validation AUC is',cross_val_score(AB, X, y, cv=10, scoring='roc_auc').mean())"
   ]
  },
  {
   "cell_type": "code",
   "execution_count": null,
   "metadata": {},
   "outputs": [],
   "source": []
  }
 ],
 "metadata": {
  "kernelspec": {
   "display_name": "Python 3",
   "language": "python",
   "name": "python3"
  },
  "language_info": {
   "codemirror_mode": {
    "name": "ipython",
    "version": 3
   },
   "file_extension": ".py",
   "mimetype": "text/x-python",
   "name": "python",
   "nbconvert_exporter": "python",
   "pygments_lexer": "ipython3",
   "version": "3.6.5"
  }
 },
 "nbformat": 4,
 "nbformat_minor": 2
}
